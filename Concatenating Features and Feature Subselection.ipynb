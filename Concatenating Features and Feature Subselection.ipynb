{
 "cells": [
  {
   "cell_type": "code",
   "execution_count": 1,
   "metadata": {
    "collapsed": false
   },
   "outputs": [],
   "source": [
    "import matplotlib\n",
    "import numpy as np\n",
    "from scipy import arange\n",
    "matplotlib.use('AGG') \n",
    "import pandas as pd\n",
    "import itertools\n",
    "import matplotlib.pyplot as plt\n",
    "%matplotlib inline"
   ]
  },
  {
   "cell_type": "markdown",
   "metadata": {},
   "source": [
    "### Find all n combinations of Feature Sets"
   ]
  },
  {
   "cell_type": "code",
   "execution_count": 105,
   "metadata": {
    "collapsed": false
   },
   "outputs": [
    {
     "data": {
      "text/plain": [
       "330"
      ]
     },
     "execution_count": 105,
     "metadata": {},
     "output_type": "execute_result"
    }
   ],
   "source": [
    "# List of all feature sets\n",
    "# n is the number of combinations out of all the feature names\n",
    "n = 4\n",
    "feature_names = [\"ResNetfc1000\",\"VGGNetfc6\",\"VGGNetfc7\",\"VGGNetfc8\",\"AlexNetfc6\",\"AlexNetfc7\",\"AlexNetfc8\",\"CaffeNetfc6\",\"CaffeNetfc7\",\"CaffeNetfc8\",\"GoogleNetloss3\"]\n",
    "all_names = list(itertools.combinations(feature_names,n)) #specify how many feature set combinations you want\n",
    "len(all_names)"
   ]
  },
  {
   "cell_type": "code",
   "execution_count": null,
   "metadata": {
    "collapsed": false
   },
   "outputs": [],
   "source": [
    "# Concatenates those feature sets then does nearest neighbours\n",
    "total_acc = []\n",
    "total_std = []\n",
    "for j in range(len(all_names)):\n",
    "    image_features = np.genfromtxt('Features Extracted/UCMerced/'+all_names[j][0]+ '.csv', delimiter=',')\n",
    "    for i in range(1,len(all_names[j])):\n",
    "        temp = np.genfromtxt('Features Extracted/UCMerced/'+all_names[j][i]+ '.csv', delimiter=',')\n",
    "        image_features = np.concatenate((image_features,temp),axis=1)\n",
    "    #Nearest Neighbours on all images LOOCV\n",
    "    lin = range(0,image_features.shape[0],100)\n",
    "    acc = np.zeros((len(lin)))\n",
    "    for a in range(len(lin)):\n",
    "        x = np.linalg.norm((image_features[lin[a],:] - image_features),axis=1)\n",
    "        y = np.sort(x)\n",
    "        sort_index = np.argsort(x)\n",
    "        d = y[0:100]\n",
    "        idx = sort_index[0:100]\n",
    "        target = range(lin[a],lin[a]+100)\n",
    "        inter = np.intersect1d(target[1:],idx[1:])\n",
    "        acc[a] = inter.shape[0]/99.0\n",
    "    total_acc.append(np.mean(acc))\n",
    "    total_std.append(np.std(acc))"
   ]
  },
  {
   "cell_type": "code",
   "execution_count": 74,
   "metadata": {
    "collapsed": true
   },
   "outputs": [],
   "source": [
    "best_names = []"
   ]
  },
  {
   "cell_type": "code",
   "execution_count": 108,
   "metadata": {
    "collapsed": false
   },
   "outputs": [],
   "source": [
    "best_names.append(all_names)\n",
    "#best_names"
   ]
  },
  {
   "cell_type": "code",
   "execution_count": 107,
   "metadata": {
    "collapsed": false
   },
   "outputs": [
    {
     "name": "stdout",
     "output_type": "stream",
     "text": [
      "330\n",
      "330\n"
     ]
    }
   ],
   "source": [
    "print len(total_acc)\n",
    "print len(total_std)"
   ]
  },
  {
   "cell_type": "code",
   "execution_count": 77,
   "metadata": {
    "collapsed": true
   },
   "outputs": [],
   "source": [
    "all_acc = []\n",
    "all_std = []"
   ]
  },
  {
   "cell_type": "code",
   "execution_count": 109,
   "metadata": {
    "collapsed": true
   },
   "outputs": [],
   "source": [
    "all_acc.extend(total_acc)\n",
    "all_std.extend(total_std)"
   ]
  },
  {
   "cell_type": "code",
   "execution_count": 110,
   "metadata": {
    "collapsed": false
   },
   "outputs": [
    {
     "name": "stdout",
     "output_type": "stream",
     "text": [
      "561\n",
      "561\n"
     ]
    }
   ],
   "source": [
    "print len(all_acc)\n",
    "print len(all_std)"
   ]
  },
  {
   "cell_type": "code",
   "execution_count": 69,
   "metadata": {
    "collapsed": false
   },
   "outputs": [],
   "source": [
    "np.savetxt(\"Features Extracted/Kaggle validation/Concat/allstd.csv\", all_std, delimiter=\",\")"
   ]
  },
  {
   "cell_type": "code",
   "execution_count": 2,
   "metadata": {
    "collapsed": false
   },
   "outputs": [],
   "source": [
    "#Best Feature set conatenated together, did it again on test set. Again make nearest neighbours into module\n",
    "feature_names = [\"ResNetfc1000\",\"VGGNetfc7\",\"AlexNetfc8\",\"CaffeNetfc7\"]\n",
    "total_acc = []\n",
    "total_std = []\n",
    "image_features = np.genfromtxt('Features Extracted/Kaggle validation/'+feature_names[0]+ '.csv', delimiter=',')\n",
    "for i in range(1,len(feature_names)):\n",
    "    temp = np.genfromtxt('Features Extracted/Kaggle validation/'+feature_names[i]+ '.csv', delimiter=',')\n",
    "    image_features = np.concatenate((image_features,temp),axis=1)\n",
    "#Nearest Neighbours on all images LOOCV\n",
    "lin = range(0,image_features.shape[0],5)\n",
    "acc = np.zeros((len(lin)))\n",
    "for a in range(len(lin)):\n",
    "    x = np.linalg.norm((image_features[lin[a],:] - image_features),axis=1)\n",
    "    y = np.sort(x)\n",
    "    sort_index = np.argsort(x)\n",
    "    d = y[0:5]\n",
    "    idx = sort_index[0:5]\n",
    "    target = range(lin[a],lin[a]+5)\n",
    "    inter = np.intersect1d(target[1:],idx[1:])\n",
    "    acc[a] = inter.shape[0]/4.0\n",
    "total_acc.append(np.mean(acc))\n",
    "total_std.append(np.std(acc))"
   ]
  },
  {
   "cell_type": "code",
   "execution_count": 252,
   "metadata": {
    "collapsed": true
   },
   "outputs": [],
   "source": [
    "total_acc = []\n",
    "total_std = []"
   ]
  },
  {
   "cell_type": "markdown",
   "metadata": {},
   "source": [
    "### Feature subselection: Chosing Random Features\n",
    "\n",
    "For Feature subselection. Randomly chose features based on a uniform distribution and see how it turned out for nearest neighbours evaluation."
   ]
  },
  {
   "cell_type": "code",
   "execution_count": 356,
   "metadata": {
    "collapsed": false
   },
   "outputs": [],
   "source": [
    "#Choosing random features from a uniform distribution and evaluating\n",
    "n = np.random.randint(1,10192,size=2100)\n",
    "image_random = image_features[:,n]\n",
    "#Nearest Neighbours on all images LOOCV\n",
    "lin = range(0,image_random.shape[0],5)\n",
    "acc = np.zeros((len(lin)))\n",
    "for a in range(len(lin)):\n",
    "    x = np.linalg.norm((image_random[lin[a],:] - image_random),axis=1)\n",
    "    y = np.sort(x)\n",
    "    sort_index = np.argsort(x)\n",
    "    d = y[0:5]\n",
    "    idx = sort_index[0:5]\n",
    "    target = range(lin[a],lin[a]+5)\n",
    "    inter = np.intersect1d(target[1:],idx[1:])\n",
    "    acc[a] = inter.shape[0]/4.0\n",
    "total_acc.append(np.mean(acc))\n",
    "total_std.append(np.std(acc))"
   ]
  },
  {
   "cell_type": "code",
   "execution_count": 357,
   "metadata": {
    "collapsed": false
   },
   "outputs": [
    {
     "data": {
      "text/plain": [
       "100"
      ]
     },
     "execution_count": 357,
     "metadata": {},
     "output_type": "execute_result"
    }
   ],
   "source": [
    "len(total_acc) #Ran above cell 100 times"
   ]
  },
  {
   "cell_type": "code",
   "execution_count": 358,
   "metadata": {
    "collapsed": false
   },
   "outputs": [
    {
     "name": "stdout",
     "output_type": "stream",
     "text": [
      "0.65315 0.650688721741 0.655611278259\n"
     ]
    }
   ],
   "source": [
    "#For getting a confidence interval\n",
    "from scipy import stats\n",
    "confidence=0.95\n",
    "total_acc\n",
    "n = len(total_acc)\n",
    "m, se = np.mean(total_acc), stats.sem(total_acc)\n",
    "h = se * stats.t._ppf((1+confidence)/2., n-1)\n",
    "print m,m-h,m+h"
   ]
  },
  {
   "cell_type": "markdown",
   "metadata": {},
   "source": [
    "### Feature subselection for Random Forest"
   ]
  },
  {
   "cell_type": "code",
   "execution_count": 13,
   "metadata": {
    "collapsed": false
   },
   "outputs": [],
   "source": [
    "#Make target labels for random forest\n",
    "y = lin*5\n",
    "y.sort()"
   ]
  },
  {
   "cell_type": "code",
   "execution_count": 80,
   "metadata": {
    "collapsed": false
   },
   "outputs": [],
   "source": [
    "#Random forest for random feature subselection\n",
    "from sklearn.ensemble import RandomForestClassifier\n",
    "forest = RandomForestClassifier(n_estimators=250,random_state=0)\n",
    "forest.fit(image_features, y)\n",
    "importances = forest.feature_importances_\n",
    "std = np.std([tree.feature_importances_ for tree in forest.estimators_],\n",
    "             axis=0)\n",
    "indices = np.argsort(importances)[::-1]\n"
   ]
  },
  {
   "cell_type": "code",
   "execution_count": 246,
   "metadata": {
    "collapsed": false
   },
   "outputs": [],
   "source": [
    "#Evaluating random forest feature subselection\n",
    "total_acc = []\n",
    "total_std = []\n",
    "for i in range(100,len(indices),500):\n",
    "    image_ra = image_features[:,indices[0:i]]\n",
    "    #Nearest Neighbours on all images LOOCV\n",
    "    lin = range(0,image_ra.shape[0],5)\n",
    "    acc = np.zeros((len(lin)))\n",
    "    for a in range(len(lin)):\n",
    "        x = np.linalg.norm((image_ra[lin[a],:] - image_ra),axis=1)\n",
    "        y = np.sort(x)\n",
    "        sort_index = np.argsort(x)\n",
    "        d = y[0:5]\n",
    "        idx = sort_index[0:5]\n",
    "        target = range(lin[a],lin[a]+5)\n",
    "        inter = np.intersect1d(target[1:],idx[1:])\n",
    "        acc[a] = inter.shape[0]/4.0\n",
    "    total_acc.append(np.mean(acc))\n",
    "    total_std.append(np.std(acc))"
   ]
  },
  {
   "cell_type": "code",
   "execution_count": 247,
   "metadata": {
    "collapsed": false
   },
   "outputs": [
    {
     "data": {
      "text/plain": [
       "<matplotlib.text.Text at 0x39cdded0>"
      ]
     },
     "execution_count": 247,
     "metadata": {},
     "output_type": "execute_result"
    },
    {
     "data": {
      "image/png": "[encoded data removed]",
      "text/plain": [
       "<matplotlib.figure.Figure at 0x1399e990>"
      ]
     },
     "metadata": {},
     "output_type": "display_data"
    }
   ],
   "source": [
    "#If adding features from random forest how much does accuracy improve\n",
    "x = range(100,len(indices),500)\n",
    "plt.plot(x,total_acc)\n",
    "plt.xlabel('Number of features added')\n",
    "plt.ylabel('Accuracy of network')\n",
    "plt.title('Feature Importance')"
   ]
  },
  {
   "cell_type": "code",
   "execution_count": 371,
   "metadata": {
    "collapsed": false
   },
   "outputs": [],
   "source": [
    "#Used for plot below, plot which features important from which feature set R=res,V=vgg,C=caffe,A=alex\n",
    "R = np.array(range(0,1000))\n",
    "V = np.array(range(1000,5096))\n",
    "A = np.array(range(5096,6096))\n",
    "C = np.array(range(6096,10192))\n",
    "test = np.concatenate((R,V,A,C))"
   ]
  },
  {
   "cell_type": "code",
   "execution_count": 391,
   "metadata": {
    "collapsed": false
   },
   "outputs": [
    {
     "data": {
      "image/png": "[encoded data removed]",
      "text/plain": [
       "<matplotlib.figure.Figure at 0x134a78d0>"
      ]
     },
     "metadata": {},
     "output_type": "display_data"
    }
   ],
   "source": [
    "for y in range(len(indices)):\n",
    "    if indices[y] in R:\n",
    "        p1 = plt.scatter(y,np.log(importances[indices[y]]),color='r')\n",
    "    if indices[y] in V:\n",
    "        p2= plt.scatter(y,np.log(importances[indices[y]]),color='b')\n",
    "    if indices[y] in A:\n",
    "        p3 = plt.scatter(y,np.log(importances[indices[y]]),color='g')\n",
    "    if indices[y] in C:\n",
    "        p4 = plt.scatter(y,np.log(importances[indices[y]]),color='y')\n",
    "plt.title(\"Feature importances\")\n",
    "plt.legend([p1,p2,p3,p4],[\"ResNet Red\", \"VGG Blue\",\"Alex Green\",\"Caffe Yellow\"])\n",
    "plt.ylabel(\"Log of importance\")\n",
    "plt.show()"
   ]
  },
  {
   "cell_type": "code",
   "execution_count": 19,
   "metadata": {
    "collapsed": false
   },
   "outputs": [],
   "source": [
    "#np.savetxt(\"Features Extracted/Kaggle validation/Concat/RV7A8C7.csv\", image_features, delimiter=\",\")"
   ]
  }
 ],
 "metadata": {
  "kernelspec": {
   "display_name": "Python 2",
   "language": "python",
   "name": "python2"
  },
  "language_info": {
   "codemirror_mode": {
    "name": "ipython",
    "version": 2
   },
   "file_extension": ".py",
   "mimetype": "text/x-python",
   "name": "python",
   "nbconvert_exporter": "python",
   "pygments_lexer": "ipython2",
   "version": "2.7.5"
  }
 },
 "nbformat": 4,
 "nbformat_minor": 0
}
