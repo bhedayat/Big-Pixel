{
 "cells": [
  {
   "cell_type": "markdown",
   "metadata": {},
   "source": [
    "### Import Base Model with new top model and frozen layers"
   ]
  },
  {
   "cell_type": "code",
   "execution_count": 1,
   "metadata": {
    "collapsed": false
   },
   "outputs": [
    {
     "name": "stderr",
     "output_type": "stream",
     "text": [
      "Using TensorFlow backend.\n"
     ]
    }
   ],
   "source": [
    "#import ResNet50finetune\n",
    "import VGG16finetune\n",
    "import h5py"
   ]
  },
  {
   "cell_type": "code",
   "execution_count": 2,
   "metadata": {
    "collapsed": true
   },
   "outputs": [],
   "source": [
    "final_model_orig = ResNet50finetune.ResNet50finetune()\n",
    "#final_model_fine = ResNet50finetune.ResNet50finetune()"
   ]
  },
  {
   "cell_type": "code",
   "execution_count": 3,
   "metadata": {
    "collapsed": false
   },
   "outputs": [],
   "source": [
    "weights_path = 'Caffe models/ResNet50/weights/ResNet50-finetune3-44-0.27.h5'\n",
    "f = h5py.File(weights_path)"
   ]
  },
  {
   "cell_type": "code",
   "execution_count": 14,
   "metadata": {
    "collapsed": false
   },
   "outputs": [],
   "source": [
    "k = 150\n",
    "name = f.attrs['layer_names'][k]\n",
    "weights = [f[name][h][()] for h in f[name].keys()]\n",
    "final_model_fine.layers[k].set_weights(weights)\n"
   ]
  },
  {
   "cell_type": "code",
   "execution_count": 15,
   "metadata": {
    "collapsed": false
   },
   "outputs": [
    {
     "data": {
      "text/plain": [
       "[array([-0.9835369 , -0.52230012, -0.96178067, ..., -1.05353284,\n",
       "        -0.821365  , -1.01705575], dtype=float32),\n",
       " array([ 1.70413303,  1.84239435,  1.54684055, ...,  1.23078692,\n",
       "         1.63978779,  1.87585914], dtype=float32),\n",
       " array([-0.02446642, -0.20497647,  0.02638452, ...,  0.00732822,\n",
       "        -0.14876044, -0.04043524], dtype=float32),\n",
       " array([ 0.0198312 ,  0.02148987,  0.01418962, ...,  0.0121992 ,\n",
       "         0.02104631,  0.01924332], dtype=float32)]"
      ]
     },
     "execution_count": 15,
     "metadata": {},
     "output_type": "execute_result"
    }
   ],
   "source": [
    "final_model_fine.layers[k].get_weights()"
   ]
  },
  {
   "cell_type": "code",
   "execution_count": 16,
   "metadata": {
    "collapsed": false
   },
   "outputs": [
    {
     "data": {
      "text/plain": [
       "[array([ 1.70413303,  1.84239435,  1.54684055, ...,  1.23078692,\n",
       "         1.63978779,  1.87585914], dtype=float32),\n",
       " array([-0.9835369 , -0.52230012, -0.96178067, ..., -1.05353284,\n",
       "        -0.821365  , -1.01705575], dtype=float32),\n",
       " array([-0.0307549 , -0.19764261,  0.02491251, ...,  0.00359258,\n",
       "        -0.14138627, -0.03583578], dtype=float32),\n",
       " array([ 0.01984804,  0.02195232,  0.01520322, ...,  0.01161362,\n",
       "         0.01946743,  0.01979927], dtype=float32)]"
      ]
     },
     "execution_count": 16,
     "metadata": {},
     "output_type": "execute_result"
    }
   ],
   "source": [
    "final_model_orig.layers[k].get_weights()"
   ]
  },
  {
   "cell_type": "code",
   "execution_count": 7,
   "metadata": {
    "collapsed": false
   },
   "outputs": [
    {
     "name": "stdout",
     "output_type": "stream",
     "text": [
      "175\n",
      "176\n",
      "177\n",
      "178\n",
      "Model loaded.\n"
     ]
    }
   ],
   "source": [
    "for k in range(len(f.attrs['layer_names'])): \n",
    "    name = f.attrs['layer_names'][k]\n",
    "    weights = [f[name][h][()] for h in f[name].keys()]\n",
    "    print k\n",
    "    final_model.layers[k].set_weights(weights)\n",
    "f.close()\n",
    "print('Model loaded.')"
   ]
  },
  {
   "cell_type": "markdown",
   "metadata": {},
   "source": [
    "### Make object from Model to be Finetuned"
   ]
  },
  {
   "cell_type": "code",
   "execution_count": 2,
   "metadata": {
    "collapsed": true
   },
   "outputs": [],
   "source": [
    "#final_model = ResNet50finetune.ResNet50finetune()\n",
    "final_model = VGG16finetune.VGG16finetune()"
   ]
  },
  {
   "cell_type": "code",
   "execution_count": 11,
   "metadata": {
    "collapsed": false
   },
   "outputs": [],
   "source": [
    "#final_model.summary()"
   ]
  },
  {
   "cell_type": "code",
   "execution_count": 3,
   "metadata": {
    "collapsed": true
   },
   "outputs": [],
   "source": [
    "from keras import optimizers"
   ]
  },
  {
   "cell_type": "code",
   "execution_count": 4,
   "metadata": {
    "collapsed": false
   },
   "outputs": [],
   "source": [
    "final_model.compile(loss='categorical_crossentropy',\n",
    "              optimizer=optimizers.Adam(),\n",
    "              metrics=['accuracy'])"
   ]
  },
  {
   "cell_type": "markdown",
   "metadata": {},
   "source": [
    "### Directory to Training and Val images \n",
    "Used for ImageDataGenerator"
   ]
  },
  {
   "cell_type": "code",
   "execution_count": 5,
   "metadata": {
    "collapsed": true
   },
   "outputs": [],
   "source": [
    "train_data_dir = 'kaggle/Training'\n",
    "validation_data_dir = 'kaggle/Validation'\n",
    "nb_train_samples = 1032\n",
    "nb_validation_samples = 688\n",
    "nb_epoch = 60\n",
    "\n",
    "img_height = 224\n",
    "img_width = 224"
   ]
  },
  {
   "cell_type": "code",
   "execution_count": 6,
   "metadata": {
    "collapsed": true
   },
   "outputs": [],
   "source": [
    "from keras.preprocessing.image import ImageDataGenerator\n",
    "from keras.callbacks import ModelCheckpoint\n"
   ]
  },
  {
   "cell_type": "code",
   "execution_count": null,
   "metadata": {
    "collapsed": false
   },
   "outputs": [
    {
     "name": "stdout",
     "output_type": "stream",
     "text": [
      "Found 1032 images belonging to 344 classes.\n",
      "Found 688 images belonging to 344 classes.\n",
      "Epoch 1/60\n"
     ]
    }
   ],
   "source": [
    "# prepare data augmentation configuration\n",
    "# Rescale Images\n",
    "# Sample wise mean center\n",
    "# Flip images\n",
    "train_datagen = ImageDataGenerator(\n",
    "        rescale=1./255,\n",
    "        horizontal_flip=True,\n",
    "        samplewise_center = True)\n",
    "\n",
    "test_datagen = ImageDataGenerator(rescale=1./255, samplewise_center = True)\n",
    "\n",
    "\n",
    "train_generator = train_datagen.flow_from_directory(\n",
    "        train_data_dir,\n",
    "        target_size=(img_height, img_width),\n",
    "        batch_size=32)\n",
    "\n",
    "validation_generator = test_datagen.flow_from_directory(\n",
    "        validation_data_dir,\n",
    "        target_size=(img_height, img_width),\n",
    "        batch_size=32)\n",
    "\n",
    "# File to save weights every 5 epochs\n",
    "file_path = 'Caffe models/VGG/VGG16-finetune2-{epoch:02d}-{val_acc:.2f}.h5'\n",
    "checkpoint = ModelCheckpoint(file_path, verbose=1, save_weights_only=True, period=5)\n",
    "callbacks_list = [checkpoint]\n",
    "\n",
    "# fine-tune the model\n",
    "history = final_model.fit_generator(\n",
    "        train_generator,\n",
    "        samples_per_epoch=nb_train_samples,\n",
    "        nb_epoch=nb_epoch,\n",
    "        validation_data=validation_generator,\n",
    "        nb_val_samples=nb_validation_samples,\n",
    "        callbacks=callbacks_list)"
   ]
  },
  {
   "cell_type": "markdown",
   "metadata": {},
   "source": [
    "### Plot the History of Training"
   ]
  },
  {
   "cell_type": "code",
   "execution_count": 10,
   "metadata": {
    "collapsed": true
   },
   "outputs": [],
   "source": [
    "import matplotlib.pyplot as plt\n",
    "%matplotlib inline"
   ]
  },
  {
   "cell_type": "code",
   "execution_count": 1,
   "metadata": {
    "collapsed": false
   },
   "outputs": [],
   "source": [
    "result = history.history"
   ]
  },
  {
   "cell_type": "code",
   "execution_count": 12,
   "metadata": {
    "collapsed": false
   },
   "outputs": [
    {
     "data": {
      "image/png": "[encoded data removed]",
      "text/plain": [
       "<matplotlib.figure.Figure at 0xed72290>"
      ]
     },
     "metadata": {},
     "output_type": "display_data"
    },
    {
     "data": {
      "image/png": "[encoded data removed]",
      "text/plain": [
       "<matplotlib.figure.Figure at 0xefb6f90>"
      ]
     },
     "metadata": {},
     "output_type": "display_data"
    }
   ],
   "source": [
    "# summarize history for accuracy\n",
    "plt.plot(result['acc'])\n",
    "plt.plot(result['val_acc'])\n",
    "plt.title('model accuracy')\n",
    "plt.ylabel('accuracy')\n",
    "plt.xlabel('epoch')\n",
    "plt.legend(['train', 'val'], loc='upper left')\n",
    "plt.show()\n",
    "# summarize history for loss\n",
    "plt.plot(result['loss'])\n",
    "plt.plot(result['val_loss'])\n",
    "plt.title('model loss')\n",
    "plt.ylabel('loss')\n",
    "plt.xlabel('epoch')\n",
    "plt.legend(['train', 'val'], loc='upper left')\n",
    "plt.show()"
   ]
  },
  {
   "cell_type": "code",
   "execution_count": null,
   "metadata": {
    "collapsed": true
   },
   "outputs": [],
   "source": []
  }
 ],
 "metadata": {
  "kernelspec": {
   "display_name": "Python 2",
   "language": "python",
   "name": "python2"
  },
  "language_info": {
   "codemirror_mode": {
    "name": "ipython",
    "version": 2
   },
   "file_extension": ".py",
   "mimetype": "text/x-python",
   "name": "python",
   "nbconvert_exporter": "python",
   "pygments_lexer": "ipython2",
   "version": "2.7.5"
  }
 },
 "nbformat": 4,
 "nbformat_minor": 2
}
