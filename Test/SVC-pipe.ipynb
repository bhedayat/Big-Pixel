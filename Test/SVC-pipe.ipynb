{
 "cells": [
  {
   "cell_type": "code",
   "execution_count": 1,
   "metadata": {
    "collapsed": false
   },
   "outputs": [],
   "source": [
    "import pandas as pd\n",
    "from sklearn.grid_search import GridSearchCV\n",
    "from sklearn.cross_validation import StratifiedKFold\n",
    "from sklearn.svm import SVC\n",
    "from sklearn.pipeline import Pipeline\n",
    "from sklearn.preprocessing import StandardScaler\n",
    "import numpy as np"
   ]
  },
  {
   "cell_type": "code",
   "execution_count": 2,
   "metadata": {
    "collapsed": false
   },
   "outputs": [],
   "source": [
    "in_file = \"../../Features Extracted/UCMerced/Finetune/Single/UCM-VGGCaffe-refc8.csv\"\n",
    "out_file = \"../results/\" + in_file.split(\"/\")[-1].split(\".csv\")[0] + \".npy\"\n",
    "df = pd.read_csv(in_file)"
   ]
  },
  {
   "cell_type": "code",
   "execution_count": 3,
   "metadata": {
    "collapsed": false
   },
   "outputs": [
    {
     "data": {
      "text/html": [
       "<div>\n",
       "<table border=\"1\" class=\"dataframe\">\n",
       "  <thead>\n",
       "    <tr style=\"text-align: right;\">\n",
       "      <th></th>\n",
       "      <th>0</th>\n",
       "      <th>0.1</th>\n",
       "      <th>1</th>\n",
       "      <th>2</th>\n",
       "      <th>3</th>\n",
       "      <th>4</th>\n",
       "      <th>5</th>\n",
       "      <th>6</th>\n",
       "      <th>7</th>\n",
       "      <th>8</th>\n",
       "      <th>...</th>\n",
       "      <th>334</th>\n",
       "      <th>335</th>\n",
       "      <th>336</th>\n",
       "      <th>337</th>\n",
       "      <th>338</th>\n",
       "      <th>339</th>\n",
       "      <th>340</th>\n",
       "      <th>341</th>\n",
       "      <th>342</th>\n",
       "      <th>343</th>\n",
       "    </tr>\n",
       "  </thead>\n",
       "  <tbody>\n",
       "    <tr>\n",
       "      <th>0</th>\n",
       "      <td>agricultural00.tif</td>\n",
       "      <td>0.946235</td>\n",
       "      <td>1.030498</td>\n",
       "      <td>0.898138</td>\n",
       "      <td>1.150152</td>\n",
       "      <td>1.065596</td>\n",
       "      <td>0.917944</td>\n",
       "      <td>0.939433</td>\n",
       "      <td>0.953776</td>\n",
       "      <td>1.086030</td>\n",
       "      <td>...</td>\n",
       "      <td>0.957576</td>\n",
       "      <td>1.089319</td>\n",
       "      <td>1.065341</td>\n",
       "      <td>0.973886</td>\n",
       "      <td>1.045439</td>\n",
       "      <td>1.025247</td>\n",
       "      <td>1.174775</td>\n",
       "      <td>0.954651</td>\n",
       "      <td>1.043507</td>\n",
       "      <td>1.057201</td>\n",
       "    </tr>\n",
       "    <tr>\n",
       "      <th>1</th>\n",
       "      <td>agricultural01.tif</td>\n",
       "      <td>0.946507</td>\n",
       "      <td>1.060595</td>\n",
       "      <td>0.878008</td>\n",
       "      <td>1.159675</td>\n",
       "      <td>1.050147</td>\n",
       "      <td>0.923151</td>\n",
       "      <td>0.949911</td>\n",
       "      <td>0.973858</td>\n",
       "      <td>1.089424</td>\n",
       "      <td>...</td>\n",
       "      <td>0.919490</td>\n",
       "      <td>1.086226</td>\n",
       "      <td>1.079319</td>\n",
       "      <td>0.951046</td>\n",
       "      <td>1.031299</td>\n",
       "      <td>0.998456</td>\n",
       "      <td>1.189871</td>\n",
       "      <td>0.943276</td>\n",
       "      <td>1.035779</td>\n",
       "      <td>1.063265</td>\n",
       "    </tr>\n",
       "    <tr>\n",
       "      <th>2</th>\n",
       "      <td>agricultural02.tif</td>\n",
       "      <td>0.961766</td>\n",
       "      <td>1.055779</td>\n",
       "      <td>0.903289</td>\n",
       "      <td>1.110943</td>\n",
       "      <td>1.058430</td>\n",
       "      <td>0.941561</td>\n",
       "      <td>0.931594</td>\n",
       "      <td>0.969891</td>\n",
       "      <td>1.132722</td>\n",
       "      <td>...</td>\n",
       "      <td>0.911914</td>\n",
       "      <td>1.067518</td>\n",
       "      <td>1.107916</td>\n",
       "      <td>0.934373</td>\n",
       "      <td>1.036289</td>\n",
       "      <td>1.054119</td>\n",
       "      <td>1.203782</td>\n",
       "      <td>0.946681</td>\n",
       "      <td>1.064551</td>\n",
       "      <td>1.066189</td>\n",
       "    </tr>\n",
       "    <tr>\n",
       "      <th>3</th>\n",
       "      <td>agricultural03.tif</td>\n",
       "      <td>0.948614</td>\n",
       "      <td>1.051583</td>\n",
       "      <td>0.876057</td>\n",
       "      <td>1.138046</td>\n",
       "      <td>1.042528</td>\n",
       "      <td>0.919195</td>\n",
       "      <td>0.939893</td>\n",
       "      <td>0.972520</td>\n",
       "      <td>1.078920</td>\n",
       "      <td>...</td>\n",
       "      <td>0.947991</td>\n",
       "      <td>1.070118</td>\n",
       "      <td>1.082180</td>\n",
       "      <td>0.970282</td>\n",
       "      <td>1.033854</td>\n",
       "      <td>1.004663</td>\n",
       "      <td>1.179627</td>\n",
       "      <td>0.948583</td>\n",
       "      <td>1.038661</td>\n",
       "      <td>1.050219</td>\n",
       "    </tr>\n",
       "    <tr>\n",
       "      <th>4</th>\n",
       "      <td>agricultural04.tif</td>\n",
       "      <td>0.966402</td>\n",
       "      <td>0.994531</td>\n",
       "      <td>1.029453</td>\n",
       "      <td>1.106425</td>\n",
       "      <td>1.094501</td>\n",
       "      <td>0.932725</td>\n",
       "      <td>0.950367</td>\n",
       "      <td>0.944330</td>\n",
       "      <td>1.036466</td>\n",
       "      <td>...</td>\n",
       "      <td>0.952698</td>\n",
       "      <td>0.987855</td>\n",
       "      <td>1.022561</td>\n",
       "      <td>0.990287</td>\n",
       "      <td>0.976540</td>\n",
       "      <td>1.071111</td>\n",
       "      <td>1.052742</td>\n",
       "      <td>1.051731</td>\n",
       "      <td>0.872228</td>\n",
       "      <td>0.919054</td>\n",
       "    </tr>\n",
       "  </tbody>\n",
       "</table>\n",
       "<p>5 rows × 345 columns</p>\n",
       "</div>"
      ],
      "text/plain": [
       "                    0       0.1         1         2         3         4  \\\n",
       "0  agricultural00.tif  0.946235  1.030498  0.898138  1.150152  1.065596   \n",
       "1  agricultural01.tif  0.946507  1.060595  0.878008  1.159675  1.050147   \n",
       "2  agricultural02.tif  0.961766  1.055779  0.903289  1.110943  1.058430   \n",
       "3  agricultural03.tif  0.948614  1.051583  0.876057  1.138046  1.042528   \n",
       "4  agricultural04.tif  0.966402  0.994531  1.029453  1.106425  1.094501   \n",
       "\n",
       "          5         6         7         8    ...          334       335  \\\n",
       "0  0.917944  0.939433  0.953776  1.086030    ...     0.957576  1.089319   \n",
       "1  0.923151  0.949911  0.973858  1.089424    ...     0.919490  1.086226   \n",
       "2  0.941561  0.931594  0.969891  1.132722    ...     0.911914  1.067518   \n",
       "3  0.919195  0.939893  0.972520  1.078920    ...     0.947991  1.070118   \n",
       "4  0.932725  0.950367  0.944330  1.036466    ...     0.952698  0.987855   \n",
       "\n",
       "        336       337       338       339       340       341       342  \\\n",
       "0  1.065341  0.973886  1.045439  1.025247  1.174775  0.954651  1.043507   \n",
       "1  1.079319  0.951046  1.031299  0.998456  1.189871  0.943276  1.035779   \n",
       "2  1.107916  0.934373  1.036289  1.054119  1.203782  0.946681  1.064551   \n",
       "3  1.082180  0.970282  1.033854  1.004663  1.179627  0.948583  1.038661   \n",
       "4  1.022561  0.990287  0.976540  1.071111  1.052742  1.051731  0.872228   \n",
       "\n",
       "        343  \n",
       "0  1.057201  \n",
       "1  1.063265  \n",
       "2  1.066189  \n",
       "3  1.050219  \n",
       "4  0.919054  \n",
       "\n",
       "[5 rows x 345 columns]"
      ]
     },
     "execution_count": 3,
     "metadata": {},
     "output_type": "execute_result"
    }
   ],
   "source": [
    "df.head()"
   ]
  },
  {
   "cell_type": "code",
   "execution_count": 4,
   "metadata": {
    "collapsed": false
   },
   "outputs": [
    {
     "data": {
      "text/html": [
       "<div>\n",
       "<table border=\"1\" class=\"dataframe\">\n",
       "  <thead>\n",
       "    <tr style=\"text-align: right;\">\n",
       "      <th></th>\n",
       "      <th>0</th>\n",
       "      <th>0.1</th>\n",
       "      <th>1</th>\n",
       "      <th>2</th>\n",
       "      <th>3</th>\n",
       "      <th>4</th>\n",
       "      <th>5</th>\n",
       "      <th>6</th>\n",
       "      <th>7</th>\n",
       "      <th>8</th>\n",
       "      <th>...</th>\n",
       "      <th>334</th>\n",
       "      <th>335</th>\n",
       "      <th>336</th>\n",
       "      <th>337</th>\n",
       "      <th>338</th>\n",
       "      <th>339</th>\n",
       "      <th>340</th>\n",
       "      <th>341</th>\n",
       "      <th>342</th>\n",
       "      <th>343</th>\n",
       "    </tr>\n",
       "  </thead>\n",
       "  <tbody>\n",
       "    <tr>\n",
       "      <th>1017</th>\n",
       "      <td>harbor17.tif</td>\n",
       "      <td>0.974355</td>\n",
       "      <td>1.014932</td>\n",
       "      <td>1.007080</td>\n",
       "      <td>0.942941</td>\n",
       "      <td>1.047291</td>\n",
       "      <td>0.949828</td>\n",
       "      <td>0.919423</td>\n",
       "      <td>0.868298</td>\n",
       "      <td>1.019491</td>\n",
       "      <td>...</td>\n",
       "      <td>0.920576</td>\n",
       "      <td>0.934521</td>\n",
       "      <td>0.979613</td>\n",
       "      <td>1.028444</td>\n",
       "      <td>1.049613</td>\n",
       "      <td>1.069313</td>\n",
       "      <td>1.099031</td>\n",
       "      <td>1.025011</td>\n",
       "      <td>1.084233</td>\n",
       "      <td>0.941343</td>\n",
       "    </tr>\n",
       "    <tr>\n",
       "      <th>436</th>\n",
       "      <td>buildings36.tif</td>\n",
       "      <td>1.017726</td>\n",
       "      <td>0.885048</td>\n",
       "      <td>1.024720</td>\n",
       "      <td>1.008001</td>\n",
       "      <td>1.030148</td>\n",
       "      <td>0.971964</td>\n",
       "      <td>0.891728</td>\n",
       "      <td>1.033487</td>\n",
       "      <td>0.999824</td>\n",
       "      <td>...</td>\n",
       "      <td>0.996999</td>\n",
       "      <td>0.891553</td>\n",
       "      <td>0.976763</td>\n",
       "      <td>0.880175</td>\n",
       "      <td>1.064472</td>\n",
       "      <td>0.846469</td>\n",
       "      <td>1.048461</td>\n",
       "      <td>1.026634</td>\n",
       "      <td>1.134158</td>\n",
       "      <td>1.013339</td>\n",
       "    </tr>\n",
       "    <tr>\n",
       "      <th>743</th>\n",
       "      <td>forest43.tif</td>\n",
       "      <td>0.930541</td>\n",
       "      <td>1.139114</td>\n",
       "      <td>0.931241</td>\n",
       "      <td>1.138047</td>\n",
       "      <td>1.044001</td>\n",
       "      <td>0.927611</td>\n",
       "      <td>1.058280</td>\n",
       "      <td>0.964141</td>\n",
       "      <td>1.016266</td>\n",
       "      <td>...</td>\n",
       "      <td>0.967311</td>\n",
       "      <td>1.058897</td>\n",
       "      <td>0.980935</td>\n",
       "      <td>1.001424</td>\n",
       "      <td>1.063016</td>\n",
       "      <td>0.893706</td>\n",
       "      <td>1.040087</td>\n",
       "      <td>0.903487</td>\n",
       "      <td>1.046708</td>\n",
       "      <td>1.030759</td>\n",
       "    </tr>\n",
       "    <tr>\n",
       "      <th>1264</th>\n",
       "      <td>mediumresidential64.tif</td>\n",
       "      <td>0.988911</td>\n",
       "      <td>0.926869</td>\n",
       "      <td>1.082446</td>\n",
       "      <td>0.925080</td>\n",
       "      <td>1.088902</td>\n",
       "      <td>0.928442</td>\n",
       "      <td>0.854250</td>\n",
       "      <td>1.044131</td>\n",
       "      <td>0.897101</td>\n",
       "      <td>...</td>\n",
       "      <td>1.050075</td>\n",
       "      <td>0.891576</td>\n",
       "      <td>1.028022</td>\n",
       "      <td>1.013089</td>\n",
       "      <td>1.106627</td>\n",
       "      <td>0.768938</td>\n",
       "      <td>0.998660</td>\n",
       "      <td>0.985087</td>\n",
       "      <td>1.104827</td>\n",
       "      <td>1.001942</td>\n",
       "    </tr>\n",
       "    <tr>\n",
       "      <th>486</th>\n",
       "      <td>buildings86.tif</td>\n",
       "      <td>0.994447</td>\n",
       "      <td>1.001471</td>\n",
       "      <td>0.983422</td>\n",
       "      <td>0.986010</td>\n",
       "      <td>1.021182</td>\n",
       "      <td>0.967756</td>\n",
       "      <td>0.861515</td>\n",
       "      <td>1.032596</td>\n",
       "      <td>0.971749</td>\n",
       "      <td>...</td>\n",
       "      <td>0.987197</td>\n",
       "      <td>0.933525</td>\n",
       "      <td>0.964067</td>\n",
       "      <td>0.973818</td>\n",
       "      <td>0.996211</td>\n",
       "      <td>0.892257</td>\n",
       "      <td>1.073700</td>\n",
       "      <td>0.952329</td>\n",
       "      <td>1.060963</td>\n",
       "      <td>1.027710</td>\n",
       "    </tr>\n",
       "  </tbody>\n",
       "</table>\n",
       "<p>5 rows × 345 columns</p>\n",
       "</div>"
      ],
      "text/plain": [
       "                            0       0.1         1         2         3  \\\n",
       "1017             harbor17.tif  0.974355  1.014932  1.007080  0.942941   \n",
       "436           buildings36.tif  1.017726  0.885048  1.024720  1.008001   \n",
       "743              forest43.tif  0.930541  1.139114  0.931241  1.138047   \n",
       "1264  mediumresidential64.tif  0.988911  0.926869  1.082446  0.925080   \n",
       "486           buildings86.tif  0.994447  1.001471  0.983422  0.986010   \n",
       "\n",
       "             4         5         6         7         8    ...          334  \\\n",
       "1017  1.047291  0.949828  0.919423  0.868298  1.019491    ...     0.920576   \n",
       "436   1.030148  0.971964  0.891728  1.033487  0.999824    ...     0.996999   \n",
       "743   1.044001  0.927611  1.058280  0.964141  1.016266    ...     0.967311   \n",
       "1264  1.088902  0.928442  0.854250  1.044131  0.897101    ...     1.050075   \n",
       "486   1.021182  0.967756  0.861515  1.032596  0.971749    ...     0.987197   \n",
       "\n",
       "           335       336       337       338       339       340       341  \\\n",
       "1017  0.934521  0.979613  1.028444  1.049613  1.069313  1.099031  1.025011   \n",
       "436   0.891553  0.976763  0.880175  1.064472  0.846469  1.048461  1.026634   \n",
       "743   1.058897  0.980935  1.001424  1.063016  0.893706  1.040087  0.903487   \n",
       "1264  0.891576  1.028022  1.013089  1.106627  0.768938  0.998660  0.985087   \n",
       "486   0.933525  0.964067  0.973818  0.996211  0.892257  1.073700  0.952329   \n",
       "\n",
       "           342       343  \n",
       "1017  1.084233  0.941343  \n",
       "436   1.134158  1.013339  \n",
       "743   1.046708  1.030759  \n",
       "1264  1.104827  1.001942  \n",
       "486   1.060963  1.027710  \n",
       "\n",
       "[5 rows x 345 columns]"
      ]
     },
     "execution_count": 4,
     "metadata": {},
     "output_type": "execute_result"
    }
   ],
   "source": [
    "df = df.reindex(np.random.permutation(df.index))\n",
    "\n",
    "df.head()"
   ]
  },
  {
   "cell_type": "code",
   "execution_count": 5,
   "metadata": {
    "collapsed": false
   },
   "outputs": [
    {
     "name": "stdout",
     "output_type": "stream",
     "text": [
      "feature data is shape (2100, 344)\n",
      "label data is shape (2100,)\n"
     ]
    }
   ],
   "source": [
    "X = np.array(df.iloc[:,1:])\n",
    "\n",
    "import re\n",
    "def getdigit(text):\n",
    "    return re.compile('\\d+').findall(text)\n",
    "labels = [i.split(getdigit(i)[0])[0] for i in df.iloc[:,0]]\n",
    "\n",
    "from sklearn import preprocessing\n",
    "le = preprocessing.LabelEncoder()\n",
    "y = le.fit_transform(labels)\n",
    "\n",
    "print \"feature data is shape\", X.shape\n",
    "print \"label data is shape\", y.shape"
   ]
  },
  {
   "cell_type": "code",
   "execution_count": 6,
   "metadata": {
    "collapsed": false
   },
   "outputs": [],
   "source": [
    "sc = StandardScaler()"
   ]
  },
  {
   "cell_type": "code",
   "execution_count": 7,
   "metadata": {
    "collapsed": false
   },
   "outputs": [],
   "source": [
    "pipe_svc = Pipeline([('sc1', StandardScaler()),\n",
    "                    ('clf', SVC(kernel='linear'))])\n",
    "\n",
    "param_range = np.logspace(-10, 1, 100)\n",
    "param_grid = [{'clf__C': param_range}]\n",
    "gs = GridSearchCV(estimator=pipe_svc, param_grid=param_grid, cv=10, n_jobs=14)"
   ]
  },
  {
   "cell_type": "code",
   "execution_count": 8,
   "metadata": {
    "collapsed": true
   },
   "outputs": [],
   "source": [
    "skf = StratifiedKFold(y, n_folds=5)\n"
   ]
  },
  {
   "cell_type": "code",
   "execution_count": 9,
   "metadata": {
    "collapsed": false,
    "scrolled": true
   },
   "outputs": [
    {
     "name": "stdout",
     "output_type": "stream",
     "text": [
      "Score is 0.902380952381\n",
      "Score is 0.930952380952\n",
      "Score is 0.888095238095\n",
      "Score is 0.92619047619\n",
      "Score is 0.933333333333\n"
     ]
    }
   ],
   "source": [
    "scores = []\n",
    "for train_index, test_index in skf:\n",
    "    X_train, X_test = X[train_index], X[test_index]\n",
    "    y_train, y_test = y[train_index], y[test_index]\n",
    "    gs.fit(X_train, y_train)\n",
    "    #print \"Done with Grid Search\"\n",
    "    clf = SVC(kernel= 'linear', C = gs.best_params_.values()[0])\n",
    "    #print \"Instiated model\"\n",
    "    #Scaled version\n",
    "    X_trainsc = sc.fit_transform(X_train)\n",
    "    X_testsc = sc.transform(X_test)\n",
    "    #print \"Scaled Data\"\n",
    "    clf.fit(X_trainsc, y_train)\n",
    "    #print \"Fitted model\"\n",
    "    s = clf.score(X_testsc, y_test)\n",
    "    print \"Score is {}\".format(s)\n",
    "    scores.append(s)"
   ]
  },
  {
   "cell_type": "code",
   "execution_count": 10,
   "metadata": {
    "collapsed": false
   },
   "outputs": [
    {
     "data": {
      "text/plain": [
       "0.91619047619047633"
      ]
     },
     "execution_count": 10,
     "metadata": {},
     "output_type": "execute_result"
    }
   ],
   "source": [
    "np.mean(scores)"
   ]
  },
  {
   "cell_type": "code",
   "execution_count": 10,
   "metadata": {
    "collapsed": false
   },
   "outputs": [
    {
     "data": {
      "text/plain": [
       "[0.86904761904761907,\n",
       " 0.87380952380952381,\n",
       " 0.88571428571428568,\n",
       " 0.8666666666666667,\n",
       " 0.88571428571428568]"
      ]
     },
     "execution_count": 10,
     "metadata": {},
     "output_type": "execute_result"
    }
   ],
   "source": [
    "scores"
   ]
  },
  {
   "cell_type": "code",
   "execution_count": 11,
   "metadata": {
    "collapsed": false
   },
   "outputs": [
    {
     "data": {
      "text/plain": [
       "0.00278255940220712"
      ]
     },
     "execution_count": 11,
     "metadata": {},
     "output_type": "execute_result"
    }
   ],
   "source": [
    "gs.best_params_.values()[0]"
   ]
  },
  {
   "cell_type": "code",
   "execution_count": 13,
   "metadata": {
    "collapsed": false
   },
   "outputs": [],
   "source": [
    "np.save(out_file, scores)"
   ]
  },
  {
   "cell_type": "code",
   "execution_count": null,
   "metadata": {
    "collapsed": true
   },
   "outputs": [],
   "source": []
  }
 ],
 "metadata": {
  "kernelspec": {
   "display_name": "Python 2",
   "language": "python",
   "name": "python2"
  },
  "language_info": {
   "codemirror_mode": {
    "name": "ipython",
    "version": 2
   },
   "file_extension": ".py",
   "mimetype": "text/x-python",
   "name": "python",
   "nbconvert_exporter": "python",
   "pygments_lexer": "ipython2",
   "version": "2.7.5"
  }
 },
 "nbformat": 4,
 "nbformat_minor": 0
}
