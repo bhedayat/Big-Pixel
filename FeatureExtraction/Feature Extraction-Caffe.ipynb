{
 "cells": [
  {
   "cell_type": "code",
   "execution_count": 1,
   "metadata": {
    "collapsed": false
   },
   "outputs": [],
   "source": [
    "import os\n",
    "from scipy import misc\n",
    "from scipy import arange\n",
    "import matplotlib\n",
    "import numpy as np\n",
    "from skicaffe import SkiCaffe\n",
    "matplotlib.use('AGG') \n",
    "import pandas as pd\n",
    "import matplotlib.pyplot as plt\n",
    "import Image\n",
    "%matplotlib inline"
   ]
  },
  {
   "cell_type": "markdown",
   "metadata": {},
   "source": [
    "### Using SkiCaffe to Feature Extract"
   ]
  },
  {
   "cell_type": "code",
   "execution_count": 8,
   "metadata": {
    "collapsed": false
   },
   "outputs": [],
   "source": [
    "import sys\n",
    "caffe_root = '/home/bhedayat/Public/caffe/'\n",
    "sys.path.insert(0, caffe_root + 'python')\n",
    "\n",
    "import caffe\n",
    "#Specify which deploy prototext and which caffe model you want, also layer\n",
    "model_prototxt = 'Caffe models/VGG/VGG_CNN_S_deploy.prototxt'\n",
    "model_trained =  'Caffe models/VGG/weights/caffe_vgg_train_iter_900.caffemodel'\n",
    "label_path = 'kaggle/labels.txt'\n",
    "mean_path = 'kaggle/draper_mean.binaryproto'\n",
    "\n",
    "# IF you have your own mean file\n",
    "DLmodel = SkiCaffe(caffe_root = caffe_root,model_prototxt_path = model_prototxt, model_trained_path = model_trained,\n",
    "                   mean_path = mean_path, labels_path = label_path, layer_name = 'refc8')\n",
    "\n",
    "# If you want to use ImageNet mean file\n",
    "#DLmodel = SkiCaffe(caffe_root = caffe_root,model_prototxt_path = model_prototxt, model_trained_path = model_trained,\n",
    "#                  layer_name = 'pool5')\n"
   ]
  },
  {
   "cell_type": "code",
   "execution_count": 9,
   "metadata": {
    "collapsed": false
   },
   "outputs": [
    {
     "name": "stdout",
     "output_type": "stream",
     "text": [
      "caffe imported successfully\n",
      "Number of layers: 15\n"
     ]
    }
   ],
   "source": [
    "DLmodel.fit() #Calling model\n",
    "print 'Number of layers:', len(DLmodel.layer_sizes) \n",
    "#DLmodel.layer_sizes #Displaying network structure"
   ]
  },
  {
   "cell_type": "code",
   "execution_count": 32,
   "metadata": {
    "collapsed": false
   },
   "outputs": [],
   "source": [
    "val = np.loadtxt('val.txt',dtype='str',delimiter=' ')"
   ]
  },
  {
   "cell_type": "code",
   "execution_count": 33,
   "metadata": {
    "collapsed": false
   },
   "outputs": [
    {
     "name": "stdout",
     "output_type": "stream",
     "text": [
      "688\n"
     ]
    }
   ],
   "source": [
    "#Grab image paths put in list\n",
    "path = 'kaggle/train_sm/'\n",
    "img_paths = []\n",
    "for i in val:\n",
    "    img_paths.append(path + i[0])\n",
    "print len(img_paths)\n"
   ]
  },
  {
   "cell_type": "code",
   "execution_count": 4,
   "metadata": {
    "collapsed": false
   },
   "outputs": [
    {
     "name": "stdout",
     "output_type": "stream",
     "text": [
      "350\n"
     ]
    }
   ],
   "source": [
    "#Same images to do nearest neighbors\n",
    "path = 'kaggle/train/train_sm/'\n",
    "img_paths = []\n",
    "for i in sorted(os.listdir(path)):\n",
    "    img_paths.append(path+i)\n",
    "print len(img_paths)"
   ]
  },
  {
   "cell_type": "markdown",
   "metadata": {},
   "source": [
    "#### Sent through model to extract Features"
   ]
  },
  {
   "cell_type": "code",
   "execution_count": 5,
   "metadata": {
    "collapsed": false
   },
   "outputs": [],
   "source": [
    "dataframe = DLmodel.transform(X = img_paths[:20])"
   ]
  },
  {
   "cell_type": "code",
   "execution_count": 21,
   "metadata": {
    "collapsed": false
   },
   "outputs": [
    {
     "data": {
      "text/plain": [
       "(350, 344)"
      ]
     },
     "execution_count": 21,
     "metadata": {},
     "output_type": "execute_result"
    }
   ],
   "source": [
    "image_features.shape"
   ]
  },
  {
   "cell_type": "code",
   "execution_count": 40,
   "metadata": {
    "collapsed": true
   },
   "outputs": [],
   "source": [
    "np.savetxt(\"Features Extracted/Kaggle validation/500AlexNetrefc8orig.csv\", image_features, delimiter=\",\")"
   ]
  },
  {
   "cell_type": "code",
   "execution_count": 36,
   "metadata": {
    "collapsed": false
   },
   "outputs": [],
   "source": [
    "pred = np.array(dataframe[0],dtype=int)-1"
   ]
  },
  {
   "cell_type": "code",
   "execution_count": 22,
   "metadata": {
    "collapsed": false
   },
   "outputs": [
    {
     "data": {
      "text/plain": [
       "array([['set100_4.jpeg', '100'],\n",
       "       ['set100_5.jpeg', '100'],\n",
       "       ['set101_4.jpeg', '101'],\n",
       "       ..., \n",
       "       ['set99_5.jpeg', '99'],\n",
       "       ['set9_4.jpeg', '9'],\n",
       "       ['set9_5.jpeg', '9']], \n",
       "      dtype='|S13')"
      ]
     },
     "execution_count": 22,
     "metadata": {},
     "output_type": "execute_result"
    }
   ],
   "source": [
    "val"
   ]
  },
  {
   "cell_type": "markdown",
   "metadata": {},
   "source": [
    "#### Perform Nearest Neighbours evaluation \n",
    "Each location has a set of 5 images. For one image in the set pick that image and perform nearest neighbours on the rest of the images.\n",
    "The 4 closest images returned should be the same 4 images from that set. Find how many are in common and divide that by 4. Do that for each location.\n"
   ]
  },
  {
   "cell_type": "code",
   "execution_count": 22,
   "metadata": {
    "collapsed": false
   },
   "outputs": [],
   "source": [
    "#Nearest Neighbours on all images LOOCV\n",
    "lin = range(0,image_features.shape[0],5)\n",
    "acc = np.zeros((len(lin)))\n",
    "for a in range(len(lin)):\n",
    "    x = np.linalg.norm((image_features[lin[a],:] - image_features),axis=1)\n",
    "    y = np.sort(x)\n",
    "    sort_index = np.argsort(x)\n",
    "    d = y[0:5]\n",
    "    idx = sort_index[0:5]\n",
    "    target = range(lin[a],lin[a]+5)\n",
    "    inter = np.intersect1d(target[1:],idx[1:])\n",
    "    acc[a] = inter.shape[0]/4.0"
   ]
  },
  {
   "cell_type": "code",
   "execution_count": 23,
   "metadata": {
    "collapsed": false
   },
   "outputs": [
    {
     "data": {
      "text/plain": [
       "0.45000000000000001"
      ]
     },
     "execution_count": 23,
     "metadata": {},
     "output_type": "execute_result"
    }
   ],
   "source": [
    "np.mean(acc)"
   ]
  },
  {
   "cell_type": "markdown",
   "metadata": {},
   "source": [
    "### Sending UC Merced Images to Feature Extract"
   ]
  },
  {
   "cell_type": "code",
   "execution_count": 10,
   "metadata": {
    "collapsed": false
   },
   "outputs": [
    {
     "name": "stdout",
     "output_type": "stream",
     "text": [
      "2100\n"
     ]
    }
   ],
   "source": [
    "#Grab image paths put in list\n",
    "path = 'UCMerced/Images/'\n",
    "img_paths = []\n",
    "label = []\n",
    "for i in sorted(os.listdir(path)):\n",
    "    for j in sorted(os.listdir(path+i)):\n",
    "        img_paths.append(path + i + '/'+ j)\n",
    "        label.append(j)\n",
    "print len(img_paths)"
   ]
  },
  {
   "cell_type": "code",
   "execution_count": 11,
   "metadata": {
    "collapsed": false
   },
   "outputs": [],
   "source": [
    "dataframe1 = DLmodel.transform(X = img_paths)"
   ]
  },
  {
   "cell_type": "code",
   "execution_count": 12,
   "metadata": {
    "collapsed": false
   },
   "outputs": [
    {
     "data": {
      "text/plain": [
       "(2100, 344)"
      ]
     },
     "execution_count": 12,
     "metadata": {},
     "output_type": "execute_result"
    }
   ],
   "source": [
    "image_features = dataframe1[1]\n",
    "image_features.shape"
   ]
  },
  {
   "cell_type": "code",
   "execution_count": 32,
   "metadata": {
    "collapsed": false
   },
   "outputs": [],
   "source": [
    "image_features = np.genfromtxt ('Features Extracted/UCMerced/Finetune/Single/UCM-VGGCaffe-refc8.csv', delimiter=\",\")"
   ]
  },
  {
   "cell_type": "code",
   "execution_count": 35,
   "metadata": {
    "collapsed": false
   },
   "outputs": [],
   "source": [
    "image_features = image_features[1:,1:]"
   ]
  },
  {
   "cell_type": "markdown",
   "metadata": {},
   "source": [
    "### Save as Pandas Dataframe"
   ]
  },
  {
   "cell_type": "code",
   "execution_count": 13,
   "metadata": {
    "collapsed": false
   },
   "outputs": [],
   "source": [
    "#np.savetxt('test.csv', image_features[1], delimiter=',')\n",
    "df1 = pd.DataFrame(np.array(label))\n",
    "df2 = pd.DataFrame(image_features)"
   ]
  },
  {
   "cell_type": "code",
   "execution_count": 14,
   "metadata": {
    "collapsed": true
   },
   "outputs": [],
   "source": [
    "frames = [df1, df2]\n",
    "result = pd.concat(frames,axis=1)"
   ]
  },
  {
   "cell_type": "code",
   "execution_count": 15,
   "metadata": {
    "collapsed": false
   },
   "outputs": [
    {
     "data": {
      "text/html": [
       "<div>\n",
       "<table border=\"1\" class=\"dataframe\">\n",
       "  <thead>\n",
       "    <tr style=\"text-align: right;\">\n",
       "      <th></th>\n",
       "      <th>0</th>\n",
       "      <th>0</th>\n",
       "      <th>1</th>\n",
       "      <th>2</th>\n",
       "      <th>3</th>\n",
       "      <th>4</th>\n",
       "      <th>5</th>\n",
       "      <th>6</th>\n",
       "      <th>7</th>\n",
       "      <th>8</th>\n",
       "      <th>...</th>\n",
       "      <th>334</th>\n",
       "      <th>335</th>\n",
       "      <th>336</th>\n",
       "      <th>337</th>\n",
       "      <th>338</th>\n",
       "      <th>339</th>\n",
       "      <th>340</th>\n",
       "      <th>341</th>\n",
       "      <th>342</th>\n",
       "      <th>343</th>\n",
       "    </tr>\n",
       "  </thead>\n",
       "  <tbody>\n",
       "    <tr>\n",
       "      <th>0</th>\n",
       "      <td>agricultural00.tif</td>\n",
       "      <td>0.946235</td>\n",
       "      <td>1.030498</td>\n",
       "      <td>0.898138</td>\n",
       "      <td>1.150152</td>\n",
       "      <td>1.065596</td>\n",
       "      <td>0.917944</td>\n",
       "      <td>0.939433</td>\n",
       "      <td>0.953776</td>\n",
       "      <td>1.086030</td>\n",
       "      <td>...</td>\n",
       "      <td>0.957576</td>\n",
       "      <td>1.089319</td>\n",
       "      <td>1.065341</td>\n",
       "      <td>0.973886</td>\n",
       "      <td>1.045439</td>\n",
       "      <td>1.025247</td>\n",
       "      <td>1.174775</td>\n",
       "      <td>0.954651</td>\n",
       "      <td>1.043507</td>\n",
       "      <td>1.057201</td>\n",
       "    </tr>\n",
       "    <tr>\n",
       "      <th>1</th>\n",
       "      <td>agricultural01.tif</td>\n",
       "      <td>0.946507</td>\n",
       "      <td>1.060595</td>\n",
       "      <td>0.878008</td>\n",
       "      <td>1.159675</td>\n",
       "      <td>1.050147</td>\n",
       "      <td>0.923151</td>\n",
       "      <td>0.949911</td>\n",
       "      <td>0.973858</td>\n",
       "      <td>1.089424</td>\n",
       "      <td>...</td>\n",
       "      <td>0.919490</td>\n",
       "      <td>1.086226</td>\n",
       "      <td>1.079319</td>\n",
       "      <td>0.951046</td>\n",
       "      <td>1.031299</td>\n",
       "      <td>0.998456</td>\n",
       "      <td>1.189871</td>\n",
       "      <td>0.943276</td>\n",
       "      <td>1.035779</td>\n",
       "      <td>1.063265</td>\n",
       "    </tr>\n",
       "    <tr>\n",
       "      <th>2</th>\n",
       "      <td>agricultural02.tif</td>\n",
       "      <td>0.961766</td>\n",
       "      <td>1.055779</td>\n",
       "      <td>0.903289</td>\n",
       "      <td>1.110943</td>\n",
       "      <td>1.058430</td>\n",
       "      <td>0.941561</td>\n",
       "      <td>0.931594</td>\n",
       "      <td>0.969891</td>\n",
       "      <td>1.132722</td>\n",
       "      <td>...</td>\n",
       "      <td>0.911914</td>\n",
       "      <td>1.067518</td>\n",
       "      <td>1.107916</td>\n",
       "      <td>0.934373</td>\n",
       "      <td>1.036289</td>\n",
       "      <td>1.054119</td>\n",
       "      <td>1.203782</td>\n",
       "      <td>0.946681</td>\n",
       "      <td>1.064551</td>\n",
       "      <td>1.066189</td>\n",
       "    </tr>\n",
       "    <tr>\n",
       "      <th>3</th>\n",
       "      <td>agricultural03.tif</td>\n",
       "      <td>0.948614</td>\n",
       "      <td>1.051583</td>\n",
       "      <td>0.876057</td>\n",
       "      <td>1.138046</td>\n",
       "      <td>1.042528</td>\n",
       "      <td>0.919195</td>\n",
       "      <td>0.939893</td>\n",
       "      <td>0.972520</td>\n",
       "      <td>1.078920</td>\n",
       "      <td>...</td>\n",
       "      <td>0.947991</td>\n",
       "      <td>1.070118</td>\n",
       "      <td>1.082180</td>\n",
       "      <td>0.970282</td>\n",
       "      <td>1.033854</td>\n",
       "      <td>1.004663</td>\n",
       "      <td>1.179627</td>\n",
       "      <td>0.948583</td>\n",
       "      <td>1.038661</td>\n",
       "      <td>1.050219</td>\n",
       "    </tr>\n",
       "    <tr>\n",
       "      <th>4</th>\n",
       "      <td>agricultural04.tif</td>\n",
       "      <td>0.966402</td>\n",
       "      <td>0.994531</td>\n",
       "      <td>1.029453</td>\n",
       "      <td>1.106425</td>\n",
       "      <td>1.094501</td>\n",
       "      <td>0.932725</td>\n",
       "      <td>0.950367</td>\n",
       "      <td>0.944330</td>\n",
       "      <td>1.036466</td>\n",
       "      <td>...</td>\n",
       "      <td>0.952698</td>\n",
       "      <td>0.987855</td>\n",
       "      <td>1.022561</td>\n",
       "      <td>0.990287</td>\n",
       "      <td>0.976540</td>\n",
       "      <td>1.071111</td>\n",
       "      <td>1.052742</td>\n",
       "      <td>1.051731</td>\n",
       "      <td>0.872228</td>\n",
       "      <td>0.919054</td>\n",
       "    </tr>\n",
       "  </tbody>\n",
       "</table>\n",
       "<p>5 rows × 345 columns</p>\n",
       "</div>"
      ],
      "text/plain": [
       "                  0         0         1         2         3         4    \\\n",
       "0  agricultural00.tif  0.946235  1.030498  0.898138  1.150152  1.065596   \n",
       "1  agricultural01.tif  0.946507  1.060595  0.878008  1.159675  1.050147   \n",
       "2  agricultural02.tif  0.961766  1.055779  0.903289  1.110943  1.058430   \n",
       "3  agricultural03.tif  0.948614  1.051583  0.876057  1.138046  1.042528   \n",
       "4  agricultural04.tif  0.966402  0.994531  1.029453  1.106425  1.094501   \n",
       "\n",
       "        5         6         7         8      ...          334       335  \\\n",
       "0  0.917944  0.939433  0.953776  1.086030    ...     0.957576  1.089319   \n",
       "1  0.923151  0.949911  0.973858  1.089424    ...     0.919490  1.086226   \n",
       "2  0.941561  0.931594  0.969891  1.132722    ...     0.911914  1.067518   \n",
       "3  0.919195  0.939893  0.972520  1.078920    ...     0.947991  1.070118   \n",
       "4  0.932725  0.950367  0.944330  1.036466    ...     0.952698  0.987855   \n",
       "\n",
       "        336       337       338       339       340       341       342  \\\n",
       "0  1.065341  0.973886  1.045439  1.025247  1.174775  0.954651  1.043507   \n",
       "1  1.079319  0.951046  1.031299  0.998456  1.189871  0.943276  1.035779   \n",
       "2  1.107916  0.934373  1.036289  1.054119  1.203782  0.946681  1.064551   \n",
       "3  1.082180  0.970282  1.033854  1.004663  1.179627  0.948583  1.038661   \n",
       "4  1.022561  0.990287  0.976540  1.071111  1.052742  1.051731  0.872228   \n",
       "\n",
       "        343  \n",
       "0  1.057201  \n",
       "1  1.063265  \n",
       "2  1.066189  \n",
       "3  1.050219  \n",
       "4  0.919054  \n",
       "\n",
       "[5 rows x 345 columns]"
      ]
     },
     "execution_count": 15,
     "metadata": {},
     "output_type": "execute_result"
    }
   ],
   "source": [
    "result.head()"
   ]
  },
  {
   "cell_type": "code",
   "execution_count": 16,
   "metadata": {
    "collapsed": false
   },
   "outputs": [],
   "source": [
    "result.to_csv('Features Extracted/UCMerced/Finetune/Single/UCM-VGGCaffe-refc8.csv',index=False)"
   ]
  },
  {
   "cell_type": "markdown",
   "metadata": {},
   "source": [
    "### Initial Nearest Neighbours evaluation \n",
    "50 random locations were generated to help split the dataset into a train and validation set. Nearest Neighbour evaluation done on train set and then validated"
   ]
  },
  {
   "cell_type": "code",
   "execution_count": 84,
   "metadata": {
    "collapsed": false
   },
   "outputs": [
    {
     "data": {
      "text/plain": [
       "array([  0,   1,   2,   3,   4,  10,  11,  12,  13,  14,  15,  16,  17,\n",
       "        18,  19,  20,  21,  22,  23,  24,  30,  31,  32,  33,  34,  35,\n",
       "        36,  37,  38,  39,  40,  41,  42,  43,  44,  45,  46,  47,  48,\n",
       "        49,  50,  51,  52,  53,  54,  60,  61,  62,  63,  64,  65,  66,\n",
       "        67,  68,  69,  70,  71,  72,  73,  74,  75,  76,  77,  78,  79,\n",
       "        80,  81,  82,  83,  84,  85,  86,  87,  88,  89,  90,  91,  92,\n",
       "        93,  94, 100, 101, 102, 103, 104, 105, 106, 107, 108, 109, 110,\n",
       "       111, 112, 113, 114, 115, 116, 117, 118, 119, 120, 121, 122, 123,\n",
       "       124, 125, 126, 127, 128, 129, 135, 136, 137, 138, 139, 140, 141,\n",
       "       142, 143, 144, 145, 146, 147, 148, 149, 150, 151, 152, 153, 154,\n",
       "       155, 156, 157, 158, 159, 170, 171, 172, 173, 174, 175, 176, 177,\n",
       "       178, 179, 180, 181, 182, 183, 184, 185, 186, 187, 188, 189, 190,\n",
       "       191, 192, 193, 194, 205, 206, 207, 208, 209, 220, 221, 222, 223,\n",
       "       224, 225, 226, 227, 228, 229, 235, 236, 237, 238, 239, 245, 246,\n",
       "       247, 248, 249, 250, 251, 252, 253, 254, 255, 256, 257, 258, 259,\n",
       "       265, 266, 267, 268, 269, 270, 271, 272, 273, 274, 275, 276, 277,\n",
       "       278, 279, 280, 281, 282, 283, 284, 300, 301, 302, 303, 304, 305,\n",
       "       306, 307, 308, 309, 310, 311, 312, 313, 314, 320, 321, 322, 323,\n",
       "       324, 330, 331, 332, 333, 334, 335, 336, 337, 338, 339, 340, 341,\n",
       "       342, 343, 344])"
      ]
     },
     "execution_count": 84,
     "metadata": {},
     "output_type": "execute_result"
    }
   ],
   "source": [
    "#Generate 50 random locations\n",
    "random.shuffle(lin)\n",
    "ridx = lin[0:50]\n",
    "random_train = np.concatenate((ridx,ridx + 1,ridx + 2,ridx + 3,ridx + 4))\n",
    "r_train = np.sort(random_train)\n",
    "r_train"
   ]
  },
  {
   "cell_type": "code",
   "execution_count": 16,
   "metadata": {
    "collapsed": false
   },
   "outputs": [],
   "source": [
    "#Split dataset into train and test set\n",
    "lin = np.array(range(0,350))\n",
    "r_test = np.array(list(set(lin).symmetric_difference(r_train)))\n",
    "img_train = img_paths[r_train]\n",
    "img_test = img_paths[r_test]\n"
   ]
  },
  {
   "cell_type": "code",
   "execution_count": 119,
   "metadata": {
    "collapsed": false
   },
   "outputs": [],
   "source": [
    "#Send images through network to get features\n",
    "image_features = DLmodel.transform(X = img_test)"
   ]
  },
  {
   "cell_type": "code",
   "execution_count": 120,
   "metadata": {
    "collapsed": false
   },
   "outputs": [
    {
     "data": {
      "text/plain": [
       "(100, 4096)"
      ]
     },
     "execution_count": 120,
     "metadata": {},
     "output_type": "execute_result"
    }
   ],
   "source": [
    "image_features.shape"
   ]
  },
  {
   "cell_type": "code",
   "execution_count": 121,
   "metadata": {
    "collapsed": true
   },
   "outputs": [],
   "source": [
    "np.savetxt(\"Features Extracted/Kaggle test/CaffeNetfc7.csv\", image_features, delimiter=\",\")"
   ]
  },
  {
   "cell_type": "code",
   "execution_count": 67,
   "metadata": {
    "collapsed": false
   },
   "outputs": [
    {
     "data": {
      "text/plain": [
       "(100, 4096)"
      ]
     },
     "execution_count": 67,
     "metadata": {},
     "output_type": "execute_result"
    }
   ],
   "source": [
    "#If you want to import any new feature sets from saved folders\n",
    "image_features = np.genfromtxt('Features Extracted/Kaggle test/VGGNetfc6.csv', delimiter=',')\n",
    "image_features.shape"
   ]
  },
  {
   "cell_type": "code",
   "execution_count": 62,
   "metadata": {
    "collapsed": false
   },
   "outputs": [],
   "source": [
    "total_acc = []\n",
    "total_std = []"
   ]
  },
  {
   "cell_type": "code",
   "execution_count": 68,
   "metadata": {
    "collapsed": false
   },
   "outputs": [],
   "source": [
    "#Nearest Neighbours on all images LOOCV\n",
    "lin = range(0,image_features.shape[0],5)\n",
    "acc = np.zeros((len(lin)))\n",
    "for a in range(len(lin)):\n",
    "    x = np.linalg.norm((image_features[lin[a],:] - image_features),axis=1)\n",
    "    y = np.sort(x)\n",
    "    sort_index = np.argsort(x)\n",
    "    d = y[0:5]\n",
    "    idx = sort_index[0:5]\n",
    "    target = range(lin[a],lin[a]+5)\n",
    "    inter = np.intersect1d(target[1:],idx[1:])\n",
    "    acc[a] = inter.shape[0]/4.0"
   ]
  },
  {
   "cell_type": "code",
   "execution_count": 69,
   "metadata": {
    "collapsed": false
   },
   "outputs": [],
   "source": [
    "total_acc.append(np.mean(acc))\n",
    "total_std.append(np.std(acc))"
   ]
  },
  {
   "cell_type": "code",
   "execution_count": 70,
   "metadata": {
    "collapsed": false
   },
   "outputs": [
    {
     "data": {
      "text/plain": [
       "[0.66249999999999998, 0.6875]"
      ]
     },
     "execution_count": 70,
     "metadata": {},
     "output_type": "execute_result"
    }
   ],
   "source": [
    "total_acc"
   ]
  },
  {
   "cell_type": "code",
   "execution_count": 71,
   "metadata": {
    "collapsed": false
   },
   "outputs": [
    {
     "data": {
      "text/plain": [
       "[0.2880429655450728, 0.23551804601770965]"
      ]
     },
     "execution_count": 71,
     "metadata": {},
     "output_type": "execute_result"
    }
   ],
   "source": [
    "total_std"
   ]
  },
  {
   "cell_type": "markdown",
   "metadata": {},
   "source": [
    "### Plotting Tools"
   ]
  },
  {
   "cell_type": "code",
   "execution_count": 109,
   "metadata": {
    "collapsed": false
   },
   "outputs": [],
   "source": [
    "#Round the accuracies for plotting\n",
    "round_acc = []\n",
    "for i in total_acc:\n",
    "    round_acc.append(round(i,2)) "
   ]
  },
  {
   "cell_type": "code",
   "execution_count": 530,
   "metadata": {
    "collapsed": false
   },
   "outputs": [
    {
     "data": {
      "image/png": "[encoded data removed]",
      "text/plain": [
       "<matplotlib.figure.Figure at 0x1ee4a350>"
      ]
     },
     "metadata": {},
     "output_type": "display_data"
    }
   ],
   "source": [
    "#Plotting\n",
    "fig, ax = plt.subplots()\n",
    "plt.bar(arange(len(total_acc)),total_acc,align='center')\n",
    "\n",
    "labels = ['Alex6', 'Alex7','Alex8','Caffe6','Caffe7', 'Caffe8','Google','ResNet','VGG6', 'VGG7', 'VGG8']\n",
    "ax.set_xticks(arange(len(total_acc)))\n",
    "ax.set_xticklabels(labels,rotation='vertical')\n",
    "\n",
    "rects = ax.patches\n",
    "\n",
    "for rect, label in zip(rects, round_acc):\n",
    "    height = rect.get_height()\n",
    "    ax.text(rect.get_x()+0.4, height+0.025, label, ha='center', va='bottom')"
   ]
  },
  {
   "cell_type": "code",
   "execution_count": 93,
   "metadata": {
    "collapsed": false
   },
   "outputs": [
    {
     "data": {
      "image/png": "[encoded data removed]",
      "text/plain": [
       "<matplotlib.figure.Figure at 0xd9798890>"
      ]
     },
     "metadata": {},
     "output_type": "display_data"
    }
   ],
   "source": [
    "fig, ax = plt.subplots()\n",
    "plt.bar(arange(len(total_acc)),total_acc,align='center')\n",
    "plt.errorbar(arange(len(total_acc)),total_acc,total_std,color = 'red')\n",
    "labels = ['Caffe8','Caffe7', 'Caffe6','Alex8', 'Alex7','Alex6','VGG8', 'VGG7', 'VGG6','ResNet','Google']\n",
    "ax.set_xticks(arange(len(total_acc)))\n",
    "ax.set_xticklabels(labels,rotation='vertical')\n",
    "\n",
    "rects = ax.patches\n",
    "plt.ylabel('Accuracy of model')\n",
    "plt.xlabel('Networks')\n",
    "plt.title('Pretrained model accuracy')\n",
    "for rect, label in zip(rects, round_acc):\n",
    "    height = rect.get_height()\n",
    "    ax.text(rect.get_x()+0.4, height+0.025, label, ha='center', va='bottom')\n",
    "plt.savefig('Validation on Networks.png')"
   ]
  },
  {
   "cell_type": "code",
   "execution_count": 110,
   "metadata": {
    "collapsed": false
   },
   "outputs": [
    {
     "data": {
      "image/png": "[encoded data removed]",
      "text/plain": [
       "<matplotlib.figure.Figure at 0xf9d3fd10>"
      ]
     },
     "metadata": {},
     "output_type": "display_data"
    }
   ],
   "source": [
    "fig, ax = plt.subplots()\n",
    "plt.bar(arange(len(total_acc)),total_acc,align='center')\n",
    "plt.errorbar(arange(len(total_acc)),total_acc,total_std,color = 'red')\n",
    "labels = ['ResNet','VGG6']\n",
    "ax.set_xticks(arange(len(total_acc)))\n",
    "ax.set_xticklabels(labels,rotation='vertical')\n",
    "\n",
    "rects = ax.patches\n",
    "plt.ylabel('Accuracy of model')\n",
    "plt.xlabel('Networks')\n",
    "plt.title('Pretrained model test')\n",
    "for rect, label in zip(rects, round_acc):\n",
    "    height = rect.get_height()\n",
    "    ax.text(rect.get_x()+0.4, height+0.025, label, ha='center', va='bottom')\n",
    "plt.savefig('Tested on Networks.png')"
   ]
  }
 ],
 "metadata": {
  "kernelspec": {
   "display_name": "Python 2",
   "language": "python",
   "name": "python2"
  },
  "language_info": {
   "codemirror_mode": {
    "name": "ipython",
    "version": 2
   },
   "file_extension": ".py",
   "mimetype": "text/x-python",
   "name": "python",
   "nbconvert_exporter": "python",
   "pygments_lexer": "ipython2",
   "version": "2.7.5"
  }
 },
 "nbformat": 4,
 "nbformat_minor": 0
}
