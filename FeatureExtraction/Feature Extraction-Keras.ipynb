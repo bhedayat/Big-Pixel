{
 "cells": [
  {
   "cell_type": "markdown",
   "metadata": {},
   "source": [
    "### Using Keras with TensorFlow backend"
   ]
  },
  {
   "cell_type": "code",
   "execution_count": 1,
   "metadata": {
    "collapsed": false
   },
   "outputs": [
    {
     "name": "stderr",
     "output_type": "stream",
     "text": [
      "Using TensorFlow backend.\n"
     ]
    }
   ],
   "source": [
    "import numpy as np\n",
    "\n",
    "from keras.models import Model\n",
    "from keras.layers import Flatten, Dense, Input, Activation\n",
    "from keras.layers import BatchNormalization\n",
    "from keras.layers import Convolution2D, MaxPooling2D\n",
    "from keras.preprocessing import image\n",
    "from keras.utils.layer_utils import convert_all_kernels_in_model\n",
    "from keras.utils.data_utils import get_file\n",
    "from keras import backend as K\n",
    "from keras.models import Sequential\n",
    "import h5py"
   ]
  },
  {
   "cell_type": "code",
   "execution_count": 2,
   "metadata": {
    "collapsed": true
   },
   "outputs": [],
   "source": [
    "import matplotlib.pyplot as plt\n",
    "%matplotlib inline"
   ]
  },
  {
   "cell_type": "markdown",
   "metadata": {},
   "source": [
    "### Set GPU\n",
    "tf.device('/gpu:0') tells TF to use gpu 0. Can use gpu 1. If cell is not run then fills both GPUs"
   ]
  },
  {
   "cell_type": "code",
   "execution_count": 3,
   "metadata": {
    "collapsed": false
   },
   "outputs": [
    {
     "data": {
      "text/plain": [
       "<contextlib.GeneratorContextManager at 0x66df3d0>"
      ]
     },
     "execution_count": 3,
     "metadata": {},
     "output_type": "execute_result"
    }
   ],
   "source": [
    "import tensorflow as tf\n",
    "tf.device('/gpu:0')"
   ]
  },
  {
   "cell_type": "code",
   "execution_count": 2,
   "metadata": {
    "collapsed": false
   },
   "outputs": [],
   "source": [
    "#val = np.loadtxt('kaggle/val.txt',dtype='str',delimiter=' ')"
   ]
  },
  {
   "cell_type": "code",
   "execution_count": 3,
   "metadata": {
    "collapsed": false
   },
   "outputs": [
    {
     "name": "stdout",
     "output_type": "stream",
     "text": [
      "688\n"
     ]
    }
   ],
   "source": [
    "#Grab image paths put in list\n",
    "#path = 'kaggle/train_sm/'\n",
    "#img_paths = []\n",
    "#for i in val:\n",
    "#    img_paths.append(path + i[0])\n",
    "#print len(img_paths)"
   ]
  },
  {
   "cell_type": "markdown",
   "metadata": {},
   "source": [
    "### Grab Test Image file paths and put into List"
   ]
  },
  {
   "cell_type": "code",
   "execution_count": 4,
   "metadata": {
    "collapsed": true
   },
   "outputs": [],
   "source": [
    "import os"
   ]
  },
  {
   "cell_type": "code",
   "execution_count": 5,
   "metadata": {
    "collapsed": false
   },
   "outputs": [
    {
     "name": "stdout",
     "output_type": "stream",
     "text": [
      "2100\n"
     ]
    }
   ],
   "source": [
    "#Grab image paths put in list\n",
    "path = 'UCMerced/Images/'\n",
    "img_paths = []\n",
    "label = []\n",
    "for i in sorted(os.listdir(path)):\n",
    "    for j in sorted(os.listdir(path+i)):\n",
    "        img_paths.append(path + i + '/'+ j)\n",
    "        label.append(j)\n",
    "print len(img_paths)"
   ]
  },
  {
   "cell_type": "code",
   "execution_count": 4,
   "metadata": {
    "collapsed": false
   },
   "outputs": [
    {
     "name": "stdout",
     "output_type": "stream",
     "text": [
      "10000\n"
     ]
    }
   ],
   "source": [
    "new_path = 'Cifar/Val/'\n",
    "#Grab image paths put in list\n",
    "img_paths = []\n",
    "for i in sorted(os.listdir(new_path)):\n",
    "    small_path = new_path+i+'/'\n",
    "    for j in sorted(os.listdir(small_path)):\n",
    "        img_paths.append(small_path + j)\n",
    "print len(img_paths)"
   ]
  },
  {
   "cell_type": "code",
   "execution_count": 58,
   "metadata": {
    "collapsed": true
   },
   "outputs": [],
   "source": [
    "#val = np.loadtxt('kaggle/val.txt',dtype='str',delimiter=' ')"
   ]
  },
  {
   "cell_type": "code",
   "execution_count": 64,
   "metadata": {
    "collapsed": false
   },
   "outputs": [
    {
     "name": "stdout",
     "output_type": "stream",
     "text": [
      "688\n"
     ]
    }
   ],
   "source": [
    "#Grab Training image paths put in list\n",
    "#path = 'kaggle/train_sm/'\n",
    "#img_paths = []\n",
    "#labels = []\n",
    "#for i in val:\n",
    "#    img_paths.append(path + i[0])\n",
    "#    labels.append(i[1])\n",
    "#print len(img_paths)"
   ]
  },
  {
   "cell_type": "markdown",
   "metadata": {},
   "source": [
    "### Import Functional Keras model from keras.applications Library "
   ]
  },
  {
   "cell_type": "code",
   "execution_count": 6,
   "metadata": {
    "collapsed": true
   },
   "outputs": [],
   "source": [
    "#from keras.applications.resnet50 import ResNet50\n",
    "#from keras.applications.vgg16 import VGG16\n",
    "from myresnet50 import ResNet50"
   ]
  },
  {
   "cell_type": "markdown",
   "metadata": {},
   "source": [
    "### Create Instance of base model \n",
    "include_top = False gets rid of top model.\n",
    "\n",
    "weights = 'imagenet' Sets weights to image net weights."
   ]
  },
  {
   "cell_type": "code",
   "execution_count": 7,
   "metadata": {
    "collapsed": false
   },
   "outputs": [
    {
     "name": "stdout",
     "output_type": "stream",
     "text": [
      "K.image_dim_ordering: tf\n"
     ]
    }
   ],
   "source": [
    "model = ResNet50(include_top=False, weights='imagenet', input_tensor=Input(shape=(224,224,3)))\n",
    "\n",
    "#model = VGG16(include_top=False, weights='imagenet', input_tensor=Input(shape=(224,224,3)))\n"
   ]
  },
  {
   "cell_type": "markdown",
   "metadata": {},
   "source": [
    "### Build Top Model"
   ]
  },
  {
   "cell_type": "code",
   "execution_count": 8,
   "metadata": {
    "collapsed": false
   },
   "outputs": [],
   "source": [
    "# ResNet Top Model\n",
    "x = model.output\n",
    "x = Flatten(name='flatten')(x) \n",
    "x = BatchNormalization(axis=1, name='batch_norm')(x)\n",
    "\n",
    "# 344 is the number of classes\n",
    "x = Dense(344, name='fc1000')(x)\n",
    "x = Activation(\"softmax\",name='bfc1000')(x)\n"
   ]
  },
  {
   "cell_type": "markdown",
   "metadata": {},
   "source": [
    "### Create a New Model Class where input is base model and output is Top model"
   ]
  },
  {
   "cell_type": "code",
   "execution_count": 9,
   "metadata": {
    "collapsed": true
   },
   "outputs": [],
   "source": [
    "# Stack top_model on top\n",
    "final_model = Model(input=model.input, output=x)"
   ]
  },
  {
   "cell_type": "code",
   "execution_count": 10,
   "metadata": {
    "collapsed": false
   },
   "outputs": [],
   "source": [
    "#File handle to open weights path\n",
    "weights_path = 'Caffe models/ResNet50/weights/ResNet50-finetune5-14-0.66.h5'\n",
    "#weights_path = 'Caffe models/VGG/VGG16-finetune2-24-0.68.h5'\n",
    "f = h5py.File(weights_path)"
   ]
  },
  {
   "cell_type": "code",
   "execution_count": 14,
   "metadata": {
    "collapsed": false
   },
   "outputs": [],
   "source": [
    "#K.get_session().run(tf.global_variables_initializer())"
   ]
  },
  {
   "cell_type": "markdown",
   "metadata": {},
   "source": [
    "### For each layer set the weights from the .h5 file"
   ]
  },
  {
   "cell_type": "code",
   "execution_count": 11,
   "metadata": {
    "collapsed": false
   },
   "outputs": [
    {
     "name": "stdout",
     "output_type": "stream",
     "text": [
      "0\n",
      "1\n",
      "2\n",
      "3\n",
      "4\n",
      "5\n",
      "6\n",
      "7\n",
      "8\n",
      "9\n",
      "10\n",
      "11\n",
      "12\n",
      "13\n",
      "14\n",
      "15\n",
      "16\n",
      "17\n",
      "18\n",
      "19\n",
      "20\n",
      "21\n",
      "22\n",
      "23\n",
      "24\n",
      "25\n",
      "26\n",
      "27\n",
      "28\n",
      "29\n",
      "30\n",
      "31\n",
      "32\n",
      "33\n",
      "34\n",
      "35\n",
      "36\n",
      "37\n",
      "38\n",
      "39\n",
      "40\n",
      "41\n",
      "42\n",
      "43\n",
      "44\n",
      "45\n",
      "46\n",
      "47\n",
      "48\n",
      "49\n",
      "50\n",
      "51\n",
      "52\n",
      "53\n",
      "54\n",
      "55\n",
      "56\n",
      "57\n",
      "58\n",
      "59\n",
      "60\n",
      "61\n",
      "62\n",
      "63\n",
      "64\n",
      "65\n",
      "66\n",
      "67\n",
      "68\n",
      "69\n",
      "70\n",
      "71\n",
      "72\n",
      "73\n",
      "74\n",
      "75\n",
      "76\n",
      "77\n",
      "78\n",
      "79\n",
      "80\n",
      "81\n",
      "82\n",
      "83\n",
      "84\n",
      "85\n",
      "86\n",
      "87\n",
      "88\n",
      "89\n",
      "90\n",
      "91\n",
      "92\n",
      "93\n",
      "94\n",
      "95\n",
      "96\n",
      "97\n",
      "98\n",
      "99\n",
      "100\n",
      "101\n",
      "102\n",
      "103\n",
      "104\n",
      "105\n",
      "106\n",
      "107\n",
      "108\n",
      "109\n",
      "110\n",
      "111\n",
      "112\n",
      "113\n",
      "114\n",
      "115\n",
      "116\n",
      "117\n",
      "118\n",
      "119\n",
      "120\n",
      "121\n",
      "122\n",
      "123\n",
      "124\n",
      "125\n",
      "126\n",
      "127\n",
      "128\n",
      "129\n",
      "130\n",
      "131\n",
      "132\n",
      "133\n",
      "134\n",
      "135\n",
      "136\n",
      "137\n",
      "138\n",
      "139\n",
      "140\n",
      "141\n",
      "142\n",
      "143\n",
      "144\n",
      "145\n",
      "146\n",
      "147\n",
      "148\n",
      "149\n",
      "150\n",
      "151\n",
      "152\n",
      "153\n",
      "154\n",
      "155\n",
      "156\n",
      "157\n",
      "158\n",
      "159\n",
      "160\n",
      "161\n",
      "162\n",
      "163\n",
      "164\n",
      "165\n",
      "166\n",
      "167\n",
      "168\n",
      "169\n",
      "170\n",
      "171\n",
      "172\n",
      "173\n",
      "174\n",
      "175\n",
      "176\n",
      "177\n",
      "178\n",
      "Model loaded.\n"
     ]
    }
   ],
   "source": [
    "for k in range(len(f.attrs['layer_names'])): \n",
    "    name = f.attrs['layer_names'][k]\n",
    "    weights = [f[name][h][()] for h in f[name].keys()]\n",
    "    print k\n",
    "    final_model.layers[k].set_weights(weights)\n",
    "f.close()\n",
    "print('Model loaded.')"
   ]
  },
  {
   "cell_type": "markdown",
   "metadata": {},
   "source": [
    "### Create a new model to feature extract and any desired layer"
   ]
  },
  {
   "cell_type": "code",
   "execution_count": 16,
   "metadata": {
    "collapsed": false
   },
   "outputs": [],
   "source": [
    "layer_name = 'avg_pool'\n",
    "intermediate_layer_model = Model(input=final_model.input,\n",
    "                                 output=final_model.get_layer(layer_name).output)\n",
    "#intermediate_layer_model = Model(input=model.input,\n",
    "#                                 output=model.get_layer('avg_pool').output)"
   ]
  },
  {
   "cell_type": "code",
   "execution_count": 17,
   "metadata": {
    "collapsed": true
   },
   "outputs": [],
   "source": [
    "def preprocess_input(x):\n",
    "    x[:, :, :, 0] -= 103.939\n",
    "    x[:, :, :, 1] -= 116.779\n",
    "    x[:, :, :, 2] -= 123.68\n",
    "    # 'RGB'->'BGR'\n",
    "    x = x[:, :, :, ::-1]\n",
    "    x = x*(1./255)\n",
    "    return x"
   ]
  },
  {
   "cell_type": "code",
   "execution_count": 18,
   "metadata": {
    "collapsed": false
   },
   "outputs": [],
   "source": [
    "#Test for 1 image \n",
    "img = image.load_img(img_paths[0], target_size=(224, 224))\n",
    "x = image.img_to_array(img)\n",
    "x = np.expand_dims(x, axis=0)\n",
    "x = preprocess_input(x)\n",
    "test = intermediate_layer_model.predict(x)"
   ]
  },
  {
   "cell_type": "code",
   "execution_count": 19,
   "metadata": {
    "collapsed": false
   },
   "outputs": [
    {
     "data": {
      "text/plain": [
       "array([[[[ 8.00135899,  6.15383148,  6.2543273 , ...,  8.18845749,\n",
       "           8.08192444,  7.25608301]]]], dtype=float32)"
      ]
     },
     "execution_count": 19,
     "metadata": {},
     "output_type": "execute_result"
    }
   ],
   "source": [
    "test"
   ]
  },
  {
   "cell_type": "code",
   "execution_count": 20,
   "metadata": {
    "collapsed": false
   },
   "outputs": [
    {
     "name": "stdout",
     "output_type": "stream",
     "text": [
      "input_1\n",
      "-0.308549\n",
      "zeropadding2d_1\n",
      "0.0\n",
      "conv1\n",
      "-0.440767\n",
      "bn_conv1\n",
      "-0.395491\n",
      "activation_1\n",
      "0.0\n",
      "maxpooling2d_1\n",
      "2.03982\n",
      "res2a_branch2a\n",
      "-5.83359\n",
      "bn2a_branch2a\n",
      "0.832119\n",
      "activation_2\n",
      "0.832119\n",
      "res2a_branch2b\n",
      "1.75372\n",
      "bn2a_branch2b\n",
      "0.388596\n",
      "activation_3\n",
      "0.388596\n",
      "res2a_branch2c\n",
      "0.118693\n",
      "res2a_branch1\n",
      "0.732868\n",
      "bn2a_branch2c\n",
      "0.604227\n",
      "bn2a_branch1\n",
      "0.211349\n",
      "merge_1\n",
      "0.815576\n",
      "activation_4\n",
      "0.815576\n",
      "res2b_branch2a\n",
      "0.416185\n",
      "bn2b_branch2a\n",
      "1.37793\n",
      "activation_5\n",
      "1.37793\n",
      "res2b_branch2b\n",
      "0.509691\n",
      "bn2b_branch2b\n",
      "0.481485\n",
      "activation_6\n",
      "0.481485\n",
      "res2b_branch2c\n",
      "-0.304074\n",
      "bn2b_branch2c\n",
      "2.84238\n",
      "merge_2\n",
      "3.65796\n",
      "activation_7\n",
      "3.65796\n",
      "res2c_branch2a\n",
      "-4.35473\n",
      "bn2c_branch2a\n",
      "2.79889\n",
      "activation_8\n",
      "2.79889\n",
      "res2c_branch2b\n",
      "-0.0886731\n",
      "bn2c_branch2b\n",
      "1.49756\n",
      "activation_9\n",
      "1.49756\n",
      "res2c_branch2c\n",
      "-0.311714\n",
      "bn2c_branch2c\n",
      "1.01574\n",
      "merge_3\n",
      "4.6737\n",
      "activation_10\n",
      "4.6737\n",
      "res3a_branch2a\n",
      "-7.95038\n",
      "bn3a_branch2a\n",
      "-0.334289\n",
      "activation_11\n",
      "0.0\n",
      "res3a_branch2b\n",
      "-1.36458\n",
      "bn3a_branch2b\n",
      "1.57183\n",
      "activation_12\n",
      "1.57183\n",
      "res3a_branch2c\n",
      "-0.194566\n",
      "res3a_branch1\n",
      "-0.621203\n",
      "bn3a_branch2c\n",
      "0.58558\n",
      "bn3a_branch1\n",
      "1.40409\n",
      "merge_4\n",
      "1.98967\n",
      "activation_13\n",
      "1.98967\n",
      "res3b_branch2a\n",
      "-0.591763\n",
      "bn3b_branch2a\n",
      "0.818871\n",
      "activation_14\n",
      "0.818871\n",
      "res3b_branch2b\n",
      "-0.875756\n",
      "bn3b_branch2b\n",
      "1.54401\n",
      "activation_15\n",
      "1.54401\n",
      "res3b_branch2c\n",
      "-0.24027\n",
      "bn3b_branch2c\n",
      "0.818423\n",
      "merge_5\n",
      "2.80809\n",
      "activation_16\n",
      "2.80809\n",
      "res3c_branch2a\n",
      "0.631487\n",
      "bn3c_branch2a\n",
      "0.41398\n",
      "activation_17\n",
      "0.41398\n",
      "res3c_branch2b\n",
      "-0.879175\n",
      "bn3c_branch2b\n",
      "1.27618\n",
      "activation_18\n",
      "1.27618\n",
      "res3c_branch2c\n",
      "0.278568\n",
      "bn3c_branch2c\n",
      "-0.0619729\n",
      "merge_6\n",
      "2.74612\n",
      "activation_19\n",
      "2.74612\n",
      "res3d_branch2a\n",
      "-1.419\n",
      "bn3d_branch2a\n",
      "0.98965\n",
      "activation_20\n",
      "0.98965\n",
      "res3d_branch2b\n",
      "-1.29631\n",
      "bn3d_branch2b\n",
      "1.43735\n",
      "activation_21\n",
      "1.43735\n",
      "res3d_branch2c\n",
      "-0.514626\n",
      "bn3d_branch2c\n",
      "0.232774\n",
      "merge_7\n",
      "2.9789\n",
      "activation_22\n",
      "2.9789\n",
      "res4a_branch2a\n",
      "-0.495871\n",
      "bn4a_branch2a\n",
      "0.884368\n",
      "activation_23\n",
      "0.884368\n",
      "res4a_branch2b\n",
      "-0.642459\n",
      "bn4a_branch2b\n",
      "0.814615\n",
      "activation_24\n",
      "0.814615\n",
      "res4a_branch2c\n",
      "0.846024\n",
      "res4a_branch1\n",
      "-3.10876\n",
      "bn4a_branch2c\n",
      "0.203596\n",
      "bn4a_branch1\n",
      "2.11133\n",
      "merge_8\n",
      "2.31492\n",
      "activation_25\n",
      "2.31492\n",
      "res4b_branch2a\n",
      "-4.97056\n",
      "bn4b_branch2a\n",
      "0.302588\n",
      "activation_26\n",
      "0.302588\n",
      "res4b_branch2b\n",
      "-0.950162\n",
      "bn4b_branch2b\n",
      "1.70599\n",
      "activation_27\n",
      "1.70599\n",
      "res4b_branch2c\n",
      "-0.150929\n",
      "bn4b_branch2c\n",
      "0.267888\n",
      "merge_9\n",
      "2.58281\n",
      "activation_28\n",
      "2.58281\n",
      "res4c_branch2a\n",
      "-3.78972\n",
      "bn4c_branch2a\n",
      "0.833513\n",
      "activation_29\n",
      "0.833513\n",
      "res4c_branch2b\n",
      "-0.574426\n",
      "bn4c_branch2b\n",
      "1.00316\n",
      "activation_30\n",
      "1.00316\n",
      "res4c_branch2c\n",
      "-0.325709\n",
      "bn4c_branch2c\n",
      "0.697566\n",
      "merge_10\n",
      "3.28038\n",
      "activation_31\n",
      "3.28038\n",
      "res4d_branch2a\n",
      "-0.0833996\n",
      "bn4d_branch2a\n",
      "0.449998\n",
      "activation_32\n",
      "0.449998\n",
      "res4d_branch2b\n",
      "-0.184787\n",
      "bn4d_branch2b\n",
      "0.518491\n",
      "activation_33\n",
      "0.518491\n",
      "res4d_branch2c\n",
      "-0.610591\n",
      "bn4d_branch2c\n",
      "1.05378\n",
      "merge_11\n",
      "4.33415\n",
      "activation_34\n",
      "4.33415\n",
      "res4e_branch2a\n",
      "-7.38152\n",
      "bn4e_branch2a\n",
      "2.25859\n",
      "activation_35\n",
      "2.25859\n",
      "res4e_branch2b\n",
      "-1.37513\n",
      "bn4e_branch2b\n",
      "0.544182\n",
      "activation_36\n",
      "0.544182\n",
      "res4e_branch2c\n",
      "-0.147161\n",
      "bn4e_branch2c\n",
      "0.575405\n",
      "merge_12\n",
      "4.90956\n",
      "activation_37\n",
      "4.90956\n",
      "res4f_branch2a\n",
      "-4.99569\n",
      "bn4f_branch2a\n",
      "2.25058\n",
      "activation_38\n",
      "2.25058\n",
      "res4f_branch2b\n",
      "-1.63153\n",
      "bn4f_branch2b\n",
      "1.45608\n",
      "activation_39\n",
      "1.45608\n",
      "res4f_branch2c\n",
      "-0.452932\n",
      "bn4f_branch2c\n",
      "0.702214\n",
      "merge_13\n",
      "5.61177\n",
      "activation_40\n",
      "5.61177\n",
      "res5a_branch2a\n",
      "-3.12177\n",
      "bn5a_branch2a\n",
      "0.45017\n",
      "activation_41\n",
      "0.45017\n",
      "res5a_branch2b\n",
      "-4.42061\n",
      "bn5a_branch2b\n",
      "2.59432\n",
      "activation_42\n",
      "2.59432\n",
      "res5a_branch2c\n",
      "0.276782\n",
      "res5a_branch1\n",
      "-0.00622365\n",
      "bn5a_branch2c\n",
      "0.842246\n",
      "bn5a_branch1\n",
      "2.28352\n",
      "merge_14\n",
      "3.12577\n",
      "activation_43\n",
      "3.12577\n",
      "res5b_branch2a\n",
      "-11.1509\n",
      "bn5b_branch2a\n",
      "1.01331\n",
      "activation_44\n",
      "1.01331\n",
      "res5b_branch2b\n",
      "-3.34617\n",
      "bn5b_branch2b\n",
      "1.17622\n",
      "activation_45\n",
      "1.17622\n",
      "res5b_branch2c\n",
      "-0.583941\n",
      "bn5b_branch2c\n",
      "2.41102\n",
      "merge_15\n",
      "5.53678\n",
      "activation_46\n",
      "5.53678\n",
      "res5c_branch2a\n",
      "-12.0187\n",
      "bn5c_branch2a\n",
      "1.11974\n",
      "activation_47\n",
      "1.11974\n",
      "res5c_branch2b\n",
      "-1.52784\n",
      "bn5c_branch2b\n",
      "0.347489\n",
      "activation_48\n",
      "0.347492\n",
      "res5c_branch2c\n",
      "-0.568345\n",
      "bn5c_branch2c\n",
      "3.07833\n",
      "merge_16\n",
      "8.61512\n",
      "activation_49\n",
      "8.61512\n",
      "avg_pool\n",
      "8.00136\n"
     ]
    }
   ],
   "source": [
    "#Get the first weight of each layer to check how big by sending image through\n",
    "for name in f.attrs['layer_names']:\n",
    "    try:\n",
    "        model.get_layer(name).output\n",
    "    except:\n",
    "        continue\n",
    "    intermediate_layer_model = Model(input=model.input,\n",
    "                                     output=model.get_layer(name).output)\n",
    "    img = image.load_img(img_paths[0], target_size=(224, 224))\n",
    "    x = image.img_to_array(img)\n",
    "    x = np.expand_dims(x, axis=0)\n",
    "    x = preprocess_input(x)\n",
    "    test = intermediate_layer_model.predict(x)\n",
    "    print name\n",
    "    print test[0].flatten()[0]\n"
   ]
  },
  {
   "cell_type": "code",
   "execution_count": 20,
   "metadata": {
    "collapsed": false
   },
   "outputs": [],
   "source": [
    "features = []\n",
    "for i in range(len(img_paths)):\n",
    "    img = image.load_img(img_paths[i], target_size=(224, 224))\n",
    "    x = image.img_to_array(img)\n",
    "    x = np.expand_dims(x, axis=0)\n",
    "    x = preprocess_input(x)\n",
    "    features.append(intermediate_layer_model.predict(x).flatten())"
   ]
  },
  {
   "cell_type": "code",
   "execution_count": 21,
   "metadata": {
    "collapsed": false
   },
   "outputs": [],
   "source": [
    "image_features = np.squeeze(features)"
   ]
  },
  {
   "cell_type": "code",
   "execution_count": 22,
   "metadata": {
    "collapsed": false
   },
   "outputs": [
    {
     "data": {
      "text/plain": [
       "(2100, 2048)"
      ]
     },
     "execution_count": 22,
     "metadata": {},
     "output_type": "execute_result"
    }
   ],
   "source": [
    "image_features.shape"
   ]
  },
  {
   "cell_type": "markdown",
   "metadata": {},
   "source": [
    "### Process to Save extracted Features into Dataframe then to CSV"
   ]
  },
  {
   "cell_type": "code",
   "execution_count": 23,
   "metadata": {
    "collapsed": true
   },
   "outputs": [],
   "source": [
    "import pandas as pd"
   ]
  },
  {
   "cell_type": "code",
   "execution_count": 24,
   "metadata": {
    "collapsed": true
   },
   "outputs": [],
   "source": [
    "df1 = pd.DataFrame(np.array(label))\n",
    "df2 = pd.DataFrame(image_features)"
   ]
  },
  {
   "cell_type": "code",
   "execution_count": 25,
   "metadata": {
    "collapsed": true
   },
   "outputs": [],
   "source": [
    "frames = [df1, df2]\n",
    "result = pd.concat(frames,axis=1)"
   ]
  },
  {
   "cell_type": "code",
   "execution_count": 26,
   "metadata": {
    "collapsed": false
   },
   "outputs": [
    {
     "data": {
      "text/html": [
       "<div>\n",
       "<table border=\"1\" class=\"dataframe\">\n",
       "  <thead>\n",
       "    <tr style=\"text-align: right;\">\n",
       "      <th></th>\n",
       "      <th>0</th>\n",
       "      <th>0</th>\n",
       "      <th>1</th>\n",
       "      <th>2</th>\n",
       "      <th>3</th>\n",
       "      <th>4</th>\n",
       "      <th>5</th>\n",
       "      <th>6</th>\n",
       "      <th>7</th>\n",
       "      <th>8</th>\n",
       "      <th>...</th>\n",
       "      <th>2038</th>\n",
       "      <th>2039</th>\n",
       "      <th>2040</th>\n",
       "      <th>2041</th>\n",
       "      <th>2042</th>\n",
       "      <th>2043</th>\n",
       "      <th>2044</th>\n",
       "      <th>2045</th>\n",
       "      <th>2046</th>\n",
       "      <th>2047</th>\n",
       "    </tr>\n",
       "  </thead>\n",
       "  <tbody>\n",
       "    <tr>\n",
       "      <th>0</th>\n",
       "      <td>agricultural00.tif</td>\n",
       "      <td>8.001358</td>\n",
       "      <td>6.153831</td>\n",
       "      <td>6.254327</td>\n",
       "      <td>10.351535</td>\n",
       "      <td>6.470306</td>\n",
       "      <td>11.839881</td>\n",
       "      <td>7.360807</td>\n",
       "      <td>9.744673</td>\n",
       "      <td>7.371373</td>\n",
       "      <td>...</td>\n",
       "      <td>8.543665</td>\n",
       "      <td>9.858485</td>\n",
       "      <td>7.902946</td>\n",
       "      <td>8.033251</td>\n",
       "      <td>8.304284</td>\n",
       "      <td>9.314300</td>\n",
       "      <td>6.383990</td>\n",
       "      <td>8.188457</td>\n",
       "      <td>8.081923</td>\n",
       "      <td>7.256083</td>\n",
       "    </tr>\n",
       "    <tr>\n",
       "      <th>1</th>\n",
       "      <td>agricultural01.tif</td>\n",
       "      <td>8.001143</td>\n",
       "      <td>6.153898</td>\n",
       "      <td>6.254155</td>\n",
       "      <td>10.351558</td>\n",
       "      <td>6.470414</td>\n",
       "      <td>11.839757</td>\n",
       "      <td>7.360776</td>\n",
       "      <td>9.744571</td>\n",
       "      <td>7.371409</td>\n",
       "      <td>...</td>\n",
       "      <td>8.543505</td>\n",
       "      <td>9.858540</td>\n",
       "      <td>7.902856</td>\n",
       "      <td>8.033365</td>\n",
       "      <td>8.304240</td>\n",
       "      <td>9.314152</td>\n",
       "      <td>6.383946</td>\n",
       "      <td>8.188575</td>\n",
       "      <td>8.081857</td>\n",
       "      <td>7.255932</td>\n",
       "    </tr>\n",
       "    <tr>\n",
       "      <th>2</th>\n",
       "      <td>agricultural02.tif</td>\n",
       "      <td>8.001007</td>\n",
       "      <td>6.153821</td>\n",
       "      <td>6.254086</td>\n",
       "      <td>10.351634</td>\n",
       "      <td>6.470341</td>\n",
       "      <td>11.839730</td>\n",
       "      <td>7.360781</td>\n",
       "      <td>9.744671</td>\n",
       "      <td>7.371364</td>\n",
       "      <td>...</td>\n",
       "      <td>8.543264</td>\n",
       "      <td>9.858466</td>\n",
       "      <td>7.903122</td>\n",
       "      <td>8.033354</td>\n",
       "      <td>8.304253</td>\n",
       "      <td>9.314267</td>\n",
       "      <td>6.383912</td>\n",
       "      <td>8.188551</td>\n",
       "      <td>8.081882</td>\n",
       "      <td>7.255896</td>\n",
       "    </tr>\n",
       "    <tr>\n",
       "      <th>3</th>\n",
       "      <td>agricultural03.tif</td>\n",
       "      <td>8.001159</td>\n",
       "      <td>6.153828</td>\n",
       "      <td>6.254199</td>\n",
       "      <td>10.351539</td>\n",
       "      <td>6.470387</td>\n",
       "      <td>11.839847</td>\n",
       "      <td>7.360753</td>\n",
       "      <td>9.744618</td>\n",
       "      <td>7.371356</td>\n",
       "      <td>...</td>\n",
       "      <td>8.543521</td>\n",
       "      <td>9.858546</td>\n",
       "      <td>7.902995</td>\n",
       "      <td>8.033306</td>\n",
       "      <td>8.304213</td>\n",
       "      <td>9.314361</td>\n",
       "      <td>6.383863</td>\n",
       "      <td>8.188568</td>\n",
       "      <td>8.081996</td>\n",
       "      <td>7.255991</td>\n",
       "    </tr>\n",
       "    <tr>\n",
       "      <th>4</th>\n",
       "      <td>agricultural04.tif</td>\n",
       "      <td>8.003878</td>\n",
       "      <td>6.154348</td>\n",
       "      <td>6.253857</td>\n",
       "      <td>10.351818</td>\n",
       "      <td>6.469512</td>\n",
       "      <td>11.839909</td>\n",
       "      <td>7.361197</td>\n",
       "      <td>9.745896</td>\n",
       "      <td>7.369430</td>\n",
       "      <td>...</td>\n",
       "      <td>8.543104</td>\n",
       "      <td>9.857647</td>\n",
       "      <td>7.903005</td>\n",
       "      <td>8.032755</td>\n",
       "      <td>8.304073</td>\n",
       "      <td>9.312605</td>\n",
       "      <td>6.385001</td>\n",
       "      <td>8.189698</td>\n",
       "      <td>8.080696</td>\n",
       "      <td>7.256610</td>\n",
       "    </tr>\n",
       "  </tbody>\n",
       "</table>\n",
       "<p>5 rows × 2049 columns</p>\n",
       "</div>"
      ],
      "text/plain": [
       "                 0         0         1         2          3         4     \\\n",
       "0  agricultural00.tif  8.001358  6.153831  6.254327  10.351535  6.470306   \n",
       "1  agricultural01.tif  8.001143  6.153898  6.254155  10.351558  6.470414   \n",
       "2  agricultural02.tif  8.001007  6.153821  6.254086  10.351634  6.470341   \n",
       "3  agricultural03.tif  8.001159  6.153828  6.254199  10.351539  6.470387   \n",
       "4  agricultural04.tif  8.003878  6.154348  6.253857  10.351818  6.469512   \n",
       "\n",
       "        5         6         7         8       ...         2038      2039  \\\n",
       "0  11.839881  7.360807  9.744673  7.371373    ...     8.543665  9.858485   \n",
       "1  11.839757  7.360776  9.744571  7.371409    ...     8.543505  9.858540   \n",
       "2  11.839730  7.360781  9.744671  7.371364    ...     8.543264  9.858466   \n",
       "3  11.839847  7.360753  9.744618  7.371356    ...     8.543521  9.858546   \n",
       "4  11.839909  7.361197  9.745896  7.369430    ...     8.543104  9.857647   \n",
       "\n",
       "       2040      2041      2042      2043      2044      2045      2046  \\\n",
       "0  7.902946  8.033251  8.304284  9.314300  6.383990  8.188457  8.081923   \n",
       "1  7.902856  8.033365  8.304240  9.314152  6.383946  8.188575  8.081857   \n",
       "2  7.903122  8.033354  8.304253  9.314267  6.383912  8.188551  8.081882   \n",
       "3  7.902995  8.033306  8.304213  9.314361  6.383863  8.188568  8.081996   \n",
       "4  7.903005  8.032755  8.304073  9.312605  6.385001  8.189698  8.080696   \n",
       "\n",
       "       2047  \n",
       "0  7.256083  \n",
       "1  7.255932  \n",
       "2  7.255896  \n",
       "3  7.255991  \n",
       "4  7.256610  \n",
       "\n",
       "[5 rows x 2049 columns]"
      ]
     },
     "execution_count": 26,
     "metadata": {},
     "output_type": "execute_result"
    }
   ],
   "source": [
    "result.head()"
   ]
  },
  {
   "cell_type": "code",
   "execution_count": 27,
   "metadata": {
    "collapsed": false
   },
   "outputs": [],
   "source": [
    "result.to_csv('Features Extracted/UCMerced/Finetune/Single/UCM-ResNet50-14epoch-avgpool-66-fine5.csv',index=False)"
   ]
  },
  {
   "cell_type": "code",
   "execution_count": null,
   "metadata": {
    "collapsed": true
   },
   "outputs": [],
   "source": []
  }
 ],
 "metadata": {
  "kernelspec": {
   "display_name": "Python 2",
   "language": "python",
   "name": "python2"
  },
  "language_info": {
   "codemirror_mode": {
    "name": "ipython",
    "version": 2
   },
   "file_extension": ".py",
   "mimetype": "text/x-python",
   "name": "python",
   "nbconvert_exporter": "python",
   "pygments_lexer": "ipython2",
   "version": "2.7.5"
  }
 },
 "nbformat": 4,
 "nbformat_minor": 2
}
