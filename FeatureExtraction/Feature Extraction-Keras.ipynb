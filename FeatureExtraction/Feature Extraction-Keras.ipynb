{
 "cells": [
  {
   "cell_type": "markdown",
   "metadata": {},
   "source": [
    "### Using Keras with TensorFlow backend"
   ]
  },
  {
   "cell_type": "code",
   "execution_count": 1,
   "metadata": {
    "collapsed": false
   },
   "outputs": [
    {
     "name": "stderr",
     "output_type": "stream",
     "text": [
      "Using TensorFlow backend.\n"
     ]
    }
   ],
   "source": [
    "import numpy as np\n",
    "\n",
    "from keras.models import Model\n",
    "from keras.layers import Flatten, Dense, Input, Activation\n",
    "from keras.layers import BatchNormalization\n",
    "from keras.layers import Convolution2D, MaxPooling2D\n",
    "from keras.preprocessing import image\n",
    "from keras.utils.layer_utils import convert_all_kernels_in_model\n",
    "from keras.utils.data_utils import get_file\n",
    "from keras import backend as K\n",
    "from keras.models import Sequential\n",
    "import h5py"
   ]
  },
  {
   "cell_type": "code",
   "execution_count": 2,
   "metadata": {
    "collapsed": true
   },
   "outputs": [],
   "source": [
    "import matplotlib.pyplot as plt\n",
    "%matplotlib inline"
   ]
  },
  {
   "cell_type": "markdown",
   "metadata": {},
   "source": [
    "### Set GPU\n",
    "tf.device('/gpu:0') tells TF to use gpu 0. Can use gpu 1. If cell is not run then fills both GPUs"
   ]
  },
  {
   "cell_type": "code",
   "execution_count": 3,
   "metadata": {
    "collapsed": false
   },
   "outputs": [],
   "source": [
    "import tensorflow as tf"
   ]
  },
  {
   "cell_type": "code",
   "execution_count": 2,
   "metadata": {
    "collapsed": false
   },
   "outputs": [],
   "source": [
    "#val = np.loadtxt('kaggle/val.txt',dtype='str',delimiter=' ')"
   ]
  },
  {
   "cell_type": "code",
   "execution_count": 3,
   "metadata": {
    "collapsed": false
   },
   "outputs": [
    {
     "name": "stdout",
     "output_type": "stream",
     "text": [
      "688\n"
     ]
    }
   ],
   "source": [
    "#Grab image paths put in list\n",
    "#path = 'kaggle/train_sm/'\n",
    "#img_paths = []\n",
    "#for i in val:\n",
    "#    img_paths.append(path + i[0])\n",
    "#print len(img_paths)"
   ]
  },
  {
   "cell_type": "markdown",
   "metadata": {},
   "source": [
    "### Grab Test Image file paths and put into List"
   ]
  },
  {
   "cell_type": "code",
   "execution_count": 2,
   "metadata": {
    "collapsed": true
   },
   "outputs": [],
   "source": [
    "import os"
   ]
  },
  {
   "cell_type": "code",
   "execution_count": 3,
   "metadata": {
    "collapsed": false
   },
   "outputs": [
    {
     "name": "stdout",
     "output_type": "stream",
     "text": [
      "2100\n"
     ]
    }
   ],
   "source": [
    "#Grab image paths put in list\n",
    "path = 'UCMerced/Images/'\n",
    "img_paths = []\n",
    "label = []\n",
    "for i in sorted(os.listdir(path)):\n",
    "    for j in sorted(os.listdir(path+i)):\n",
    "        img_paths.append(path + i + '/'+ j)\n",
    "        label.append(j)\n",
    "print len(img_paths)"
   ]
  },
  {
   "cell_type": "code",
   "execution_count": 4,
   "metadata": {
    "collapsed": false
   },
   "outputs": [
    {
     "name": "stdout",
     "output_type": "stream",
     "text": [
      "10000\n"
     ]
    }
   ],
   "source": [
    "new_path = 'Cifar/Val/'\n",
    "#Grab image paths put in list\n",
    "img_paths = []\n",
    "for i in sorted(os.listdir(new_path)):\n",
    "    small_path = new_path+i+'/'\n",
    "    for j in sorted(os.listdir(small_path)):\n",
    "        img_paths.append(small_path + j)\n",
    "print len(img_paths)"
   ]
  },
  {
   "cell_type": "code",
   "execution_count": 58,
   "metadata": {
    "collapsed": true
   },
   "outputs": [],
   "source": [
    "#val = np.loadtxt('kaggle/val.txt',dtype='str',delimiter=' ')"
   ]
  },
  {
   "cell_type": "code",
   "execution_count": 64,
   "metadata": {
    "collapsed": false
   },
   "outputs": [
    {
     "name": "stdout",
     "output_type": "stream",
     "text": [
      "688\n"
     ]
    }
   ],
   "source": [
    "#Grab Training image paths put in list\n",
    "#path = 'kaggle/train_sm/'\n",
    "#img_paths = []\n",
    "#labels = []\n",
    "#for i in val:\n",
    "#    img_paths.append(path + i[0])\n",
    "#    labels.append(i[1])\n",
    "#print len(img_paths)"
   ]
  },
  {
   "cell_type": "markdown",
   "metadata": {},
   "source": [
    "### Import Functional Keras model from keras.applications Library "
   ]
  },
  {
   "cell_type": "code",
   "execution_count": 5,
   "metadata": {
    "collapsed": true
   },
   "outputs": [],
   "source": [
    "#from keras.applications.resnet50 import ResNet50\n",
    "from keras.applications.vgg16 import VGG16\n",
    "#from myresnet50 import ResNet50"
   ]
  },
  {
   "cell_type": "markdown",
   "metadata": {},
   "source": [
    "### Create Instance of base model \n",
    "include_top = False gets rid of top model.\n",
    "\n",
    "weights = 'imagenet' Sets weights to image net weights."
   ]
  },
  {
   "cell_type": "code",
   "execution_count": 6,
   "metadata": {
    "collapsed": false
   },
   "outputs": [],
   "source": [
    "#model = ResNet50(include_top=False, weights='imagenet', input_tensor=Input(shape=(224,224,3)))\n",
    "#with tf.device('/gpu:1'):\n",
    "model = VGG16(include_top=True, weights='imagenet', input_tensor=Input(shape=(224,224,3)))\n"
   ]
  },
  {
   "cell_type": "markdown",
   "metadata": {},
   "source": [
    "### Build Top Model"
   ]
  },
  {
   "cell_type": "code",
   "execution_count": 8,
   "metadata": {
    "collapsed": false
   },
   "outputs": [],
   "source": [
    "#Top of the model\n",
    "x = model.layers[18].output\n",
    "x = Flatten(name='flatten')(x)\n",
    "\n",
    "#x = Dense(4096, name='fc1002',init='lecun_uniform')(x)\n",
    "#x = BatchNormalization(axis=1,name='batch_norm2')(x)\n",
    "#x = Activation(\"relu\",name='bfc1002')(x)\n",
    "\n",
    "x = Dense(4096, name='fc1001',init='lecun_uniform')(x) \n",
    "x = BatchNormalization(axis=1, name='batch_norm')(x)\n",
    "x = Activation(\"relu\",name='bfc1001')(x)\n",
    "\n",
    "# 344 is the number of classes\n",
    "x = Dense(344, name='fc1000',init='lecun_uniform')(x)\n",
    "x = Activation(\"softmax\",name='bfc1000')(x)\n"
   ]
  },
  {
   "cell_type": "markdown",
   "metadata": {},
   "source": [
    "### Create a New Model Class where input is base model and output is Top model"
   ]
  },
  {
   "cell_type": "code",
   "execution_count": 9,
   "metadata": {
    "collapsed": true
   },
   "outputs": [],
   "source": [
    "# Stack top_model on top\n",
    "final_model = Model(input=model.input, output=x)"
   ]
  },
  {
   "cell_type": "code",
   "execution_count": 10,
   "metadata": {
    "collapsed": false
   },
   "outputs": [],
   "source": [
    "#File handle to open weights path\n",
    "#weights_path = 'Caffe models/ResNet50/weights/ResNet50-finetune5-14-0.66.h5'\n",
    "weights_path = 'Caffe models/VGG/VGG16-finetune8less-44-0.22.h5'\n",
    "f = h5py.File(weights_path)"
   ]
  },
  {
   "cell_type": "code",
   "execution_count": 14,
   "metadata": {
    "collapsed": false
   },
   "outputs": [],
   "source": [
    "#K.get_session().run(tf.global_variables_initializer())"
   ]
  },
  {
   "cell_type": "markdown",
   "metadata": {},
   "source": [
    "### For each layer set the weights from the .h5 file"
   ]
  },
  {
   "cell_type": "code",
   "execution_count": 11,
   "metadata": {
    "collapsed": false
   },
   "outputs": [
    {
     "name": "stdout",
     "output_type": "stream",
     "text": [
      "0\n",
      "1\n",
      "2\n",
      "3\n",
      "4\n",
      "5\n",
      "6\n",
      "7\n",
      "8\n",
      "9\n",
      "10\n",
      "11\n",
      "12\n",
      "13\n",
      "14\n",
      "15\n",
      "16\n",
      "17\n",
      "18\n",
      "19\n",
      "20\n",
      "21\n",
      "22\n",
      "23\n",
      "24\n",
      "Model loaded.\n"
     ]
    }
   ],
   "source": [
    "for k in range(len(f.attrs['layer_names'])): \n",
    "    name = f.attrs['layer_names'][k]\n",
    "    weights = [f[name][h][()] for h in f[name].keys()]\n",
    "    #Skip over setting Batch Normalization weightt. 176 is the BN layer in the top model\n",
    "    #if \"BatchNormalization\" not in str(final_model.layers[k]) or k == 176:\n",
    "    print k\n",
    "    final_model.layers[k].set_weights(weights)\n",
    "f.close()\n",
    "print('Model loaded.')"
   ]
  },
  {
   "cell_type": "markdown",
   "metadata": {},
   "source": [
    "### Create a new model to feature extract and any desired layer"
   ]
  },
  {
   "cell_type": "code",
   "execution_count": 16,
   "metadata": {
    "collapsed": false
   },
   "outputs": [],
   "source": [
    "layer_name = 'fc1001'\n",
    "intermediate_layer_model = Model(input=final_model.input,\n",
    "                                 output=final_model.get_layer(layer_name).output)\n",
    "#intermediate_layer_model = Model(input=model.input,\n",
    "#                                 output=model.get_layer('avg_pool').output)"
   ]
  },
  {
   "cell_type": "code",
   "execution_count": 17,
   "metadata": {
    "collapsed": true
   },
   "outputs": [],
   "source": [
    "def preprocess_input(x):\n",
    "    x[:, :, :, 0] -= 103.939\n",
    "    x[:, :, :, 1] -= 116.779\n",
    "    x[:, :, :, 2] -= 123.68\n",
    "    # 'RGB'->'BGR'\n",
    "    x = x[:, :, :, ::-1]\n",
    "    x = x*(1./255) #comment out for orignal ResNet model. Affects numbers\n",
    "    return x"
   ]
  },
  {
   "cell_type": "code",
   "execution_count": 18,
   "metadata": {
    "collapsed": false
   },
   "outputs": [],
   "source": [
    "#Test for 1 image \n",
    "img = image.load_img(img_paths[0], target_size=(224, 224))\n",
    "x = image.img_to_array(img)\n",
    "x = np.expand_dims(x, axis=0)\n",
    "x = preprocess_input(x)\n",
    "test = intermediate_layer_model.predict(x)"
   ]
  },
  {
   "cell_type": "code",
   "execution_count": 20,
   "metadata": {
    "collapsed": false
   },
   "outputs": [],
   "source": [
    "#test"
   ]
  },
  {
   "cell_type": "code",
   "execution_count": null,
   "metadata": {
    "collapsed": true
   },
   "outputs": [],
   "source": [
    "#Get the first weight of each layer to check how big by sending image through\n",
    "for name in f.attrs['layer_names']:\n",
    "    try:\n",
    "        model_b.get_layer(name).output\n",
    "    except:\n",
    "        continue\n",
    "    intermediate_layer_model = Model(input=model_b.input,\n",
    "                                     output=model_b.get_layer(name).output)\n",
    "    img = image.load_img(img_paths[0], target_size=(224, 224))\n",
    "    x = image.img_to_array(img)\n",
    "    x = np.expand_dims(x, axis=0)\n",
    "    x = preprocess_input(x)\n",
    "    test = intermediate_layer_model.predict(x)\n",
    "    print name\n",
    "    print test[0].flatten()[0]\n"
   ]
  },
  {
   "cell_type": "code",
   "execution_count": 21,
   "metadata": {
    "collapsed": false
   },
   "outputs": [],
   "source": [
    "features = []\n",
    "for i in range(len(img_paths)):\n",
    "    img = image.load_img(img_paths[i], target_size=(224, 224))\n",
    "    x = image.img_to_array(img)\n",
    "    x = np.expand_dims(x, axis=0)\n",
    "    x = preprocess_input(x)\n",
    "    features.append(intermediate_layer_model.predict(x).flatten())"
   ]
  },
  {
   "cell_type": "code",
   "execution_count": 22,
   "metadata": {
    "collapsed": false
   },
   "outputs": [],
   "source": [
    "image_features = np.squeeze(features)"
   ]
  },
  {
   "cell_type": "code",
   "execution_count": 23,
   "metadata": {
    "collapsed": false
   },
   "outputs": [
    {
     "data": {
      "text/plain": [
       "(2100, 4096)"
      ]
     },
     "execution_count": 23,
     "metadata": {},
     "output_type": "execute_result"
    }
   ],
   "source": [
    "image_features.shape"
   ]
  },
  {
   "cell_type": "markdown",
   "metadata": {},
   "source": [
    "### Process to Save extracted Features into Dataframe then to CSV"
   ]
  },
  {
   "cell_type": "code",
   "execution_count": 24,
   "metadata": {
    "collapsed": true
   },
   "outputs": [],
   "source": [
    "import pandas as pd"
   ]
  },
  {
   "cell_type": "code",
   "execution_count": 25,
   "metadata": {
    "collapsed": true
   },
   "outputs": [],
   "source": [
    "df1 = pd.DataFrame(np.array(label))\n",
    "df2 = pd.DataFrame(image_features)"
   ]
  },
  {
   "cell_type": "code",
   "execution_count": 27,
   "metadata": {
    "collapsed": true
   },
   "outputs": [],
   "source": [
    "frames = [df1, df2]\n",
    "result = pd.concat(frames,axis=1)"
   ]
  },
  {
   "cell_type": "code",
   "execution_count": 28,
   "metadata": {
    "collapsed": false
   },
   "outputs": [
    {
     "data": {
      "text/html": [
       "<div>\n",
       "<table border=\"1\" class=\"dataframe\">\n",
       "  <thead>\n",
       "    <tr style=\"text-align: right;\">\n",
       "      <th></th>\n",
       "      <th>0</th>\n",
       "      <th>0</th>\n",
       "      <th>1</th>\n",
       "      <th>2</th>\n",
       "      <th>3</th>\n",
       "      <th>4</th>\n",
       "      <th>5</th>\n",
       "      <th>6</th>\n",
       "      <th>7</th>\n",
       "      <th>8</th>\n",
       "      <th>...</th>\n",
       "      <th>4086</th>\n",
       "      <th>4087</th>\n",
       "      <th>4088</th>\n",
       "      <th>4089</th>\n",
       "      <th>4090</th>\n",
       "      <th>4091</th>\n",
       "      <th>4092</th>\n",
       "      <th>4093</th>\n",
       "      <th>4094</th>\n",
       "      <th>4095</th>\n",
       "    </tr>\n",
       "  </thead>\n",
       "  <tbody>\n",
       "    <tr>\n",
       "      <th>0</th>\n",
       "      <td>agricultural00.tif</td>\n",
       "      <td>-8.144235</td>\n",
       "      <td>-9.100907</td>\n",
       "      <td>0.242139</td>\n",
       "      <td>0.136577</td>\n",
       "      <td>0.078200</td>\n",
       "      <td>-0.314120</td>\n",
       "      <td>-3.557962</td>\n",
       "      <td>-0.968221</td>\n",
       "      <td>1.337975</td>\n",
       "      <td>...</td>\n",
       "      <td>-0.004864</td>\n",
       "      <td>-4.771656</td>\n",
       "      <td>-9.397353</td>\n",
       "      <td>-2.721172</td>\n",
       "      <td>-11.032389</td>\n",
       "      <td>5.551828</td>\n",
       "      <td>10.028757</td>\n",
       "      <td>6.802113</td>\n",
       "      <td>8.201835</td>\n",
       "      <td>-4.912762</td>\n",
       "    </tr>\n",
       "    <tr>\n",
       "      <th>1</th>\n",
       "      <td>agricultural01.tif</td>\n",
       "      <td>-5.526604</td>\n",
       "      <td>-7.298079</td>\n",
       "      <td>0.662029</td>\n",
       "      <td>0.496180</td>\n",
       "      <td>0.896402</td>\n",
       "      <td>-2.030433</td>\n",
       "      <td>-2.464485</td>\n",
       "      <td>0.172785</td>\n",
       "      <td>0.029954</td>\n",
       "      <td>...</td>\n",
       "      <td>0.046032</td>\n",
       "      <td>-3.789477</td>\n",
       "      <td>-9.630476</td>\n",
       "      <td>-4.182361</td>\n",
       "      <td>-10.135643</td>\n",
       "      <td>4.088016</td>\n",
       "      <td>9.197919</td>\n",
       "      <td>5.611478</td>\n",
       "      <td>8.728189</td>\n",
       "      <td>-2.870421</td>\n",
       "    </tr>\n",
       "    <tr>\n",
       "      <th>2</th>\n",
       "      <td>agricultural02.tif</td>\n",
       "      <td>-5.425224</td>\n",
       "      <td>-5.934672</td>\n",
       "      <td>-0.320346</td>\n",
       "      <td>1.241558</td>\n",
       "      <td>0.974716</td>\n",
       "      <td>-0.517567</td>\n",
       "      <td>-3.624277</td>\n",
       "      <td>1.233659</td>\n",
       "      <td>1.128209</td>\n",
       "      <td>...</td>\n",
       "      <td>0.708996</td>\n",
       "      <td>-2.528896</td>\n",
       "      <td>-9.955143</td>\n",
       "      <td>-3.576707</td>\n",
       "      <td>-10.006432</td>\n",
       "      <td>5.623075</td>\n",
       "      <td>10.368506</td>\n",
       "      <td>4.985160</td>\n",
       "      <td>8.789730</td>\n",
       "      <td>-4.683414</td>\n",
       "    </tr>\n",
       "    <tr>\n",
       "      <th>3</th>\n",
       "      <td>agricultural03.tif</td>\n",
       "      <td>-5.734372</td>\n",
       "      <td>-6.086385</td>\n",
       "      <td>0.078721</td>\n",
       "      <td>0.935184</td>\n",
       "      <td>0.756439</td>\n",
       "      <td>-0.734438</td>\n",
       "      <td>-3.422276</td>\n",
       "      <td>-0.556330</td>\n",
       "      <td>1.080915</td>\n",
       "      <td>...</td>\n",
       "      <td>-0.319884</td>\n",
       "      <td>-3.432272</td>\n",
       "      <td>-8.958613</td>\n",
       "      <td>-3.897922</td>\n",
       "      <td>-9.524585</td>\n",
       "      <td>4.696538</td>\n",
       "      <td>8.964489</td>\n",
       "      <td>6.794896</td>\n",
       "      <td>7.747476</td>\n",
       "      <td>-3.959482</td>\n",
       "    </tr>\n",
       "    <tr>\n",
       "      <th>4</th>\n",
       "      <td>agricultural04.tif</td>\n",
       "      <td>-15.973546</td>\n",
       "      <td>-13.659833</td>\n",
       "      <td>-0.959912</td>\n",
       "      <td>-7.951974</td>\n",
       "      <td>0.854418</td>\n",
       "      <td>5.629112</td>\n",
       "      <td>-9.034302</td>\n",
       "      <td>-2.414236</td>\n",
       "      <td>-1.916469</td>\n",
       "      <td>...</td>\n",
       "      <td>-6.482616</td>\n",
       "      <td>-7.786484</td>\n",
       "      <td>-15.660973</td>\n",
       "      <td>2.489746</td>\n",
       "      <td>-16.015741</td>\n",
       "      <td>2.337044</td>\n",
       "      <td>11.651434</td>\n",
       "      <td>7.406279</td>\n",
       "      <td>12.399714</td>\n",
       "      <td>-0.463293</td>\n",
       "    </tr>\n",
       "  </tbody>\n",
       "</table>\n",
       "<p>5 rows × 4097 columns</p>\n",
       "</div>"
      ],
      "text/plain": [
       "                 0          0          1         2         3         4     \\\n",
       "0  agricultural00.tif  -8.144235  -9.100907  0.242139  0.136577  0.078200   \n",
       "1  agricultural01.tif  -5.526604  -7.298079  0.662029  0.496180  0.896402   \n",
       "2  agricultural02.tif  -5.425224  -5.934672 -0.320346  1.241558  0.974716   \n",
       "3  agricultural03.tif  -5.734372  -6.086385  0.078721  0.935184  0.756439   \n",
       "4  agricultural04.tif -15.973546 -13.659833 -0.959912 -7.951974  0.854418   \n",
       "\n",
       "       5         6         7         8       ...         4086      4087  \\\n",
       "0 -0.314120 -3.557962 -0.968221  1.337975    ...    -0.004864 -4.771656   \n",
       "1 -2.030433 -2.464485  0.172785  0.029954    ...     0.046032 -3.789477   \n",
       "2 -0.517567 -3.624277  1.233659  1.128209    ...     0.708996 -2.528896   \n",
       "3 -0.734438 -3.422276 -0.556330  1.080915    ...    -0.319884 -3.432272   \n",
       "4  5.629112 -9.034302 -2.414236 -1.916469    ...    -6.482616 -7.786484   \n",
       "\n",
       "        4088      4089       4090      4091       4092      4093       4094  \\\n",
       "0  -9.397353 -2.721172 -11.032389  5.551828  10.028757  6.802113   8.201835   \n",
       "1  -9.630476 -4.182361 -10.135643  4.088016   9.197919  5.611478   8.728189   \n",
       "2  -9.955143 -3.576707 -10.006432  5.623075  10.368506  4.985160   8.789730   \n",
       "3  -8.958613 -3.897922  -9.524585  4.696538   8.964489  6.794896   7.747476   \n",
       "4 -15.660973  2.489746 -16.015741  2.337044  11.651434  7.406279  12.399714   \n",
       "\n",
       "       4095  \n",
       "0 -4.912762  \n",
       "1 -2.870421  \n",
       "2 -4.683414  \n",
       "3 -3.959482  \n",
       "4 -0.463293  \n",
       "\n",
       "[5 rows x 4097 columns]"
      ]
     },
     "execution_count": 28,
     "metadata": {},
     "output_type": "execute_result"
    }
   ],
   "source": [
    "result.head()"
   ]
  },
  {
   "cell_type": "code",
   "execution_count": 29,
   "metadata": {
    "collapsed": false
   },
   "outputs": [],
   "source": [
    "result.to_csv('Features Extracted/UCMerced/Finetune/Single/UCM-VGG16-44epoch-fc1001-22-fine8less.csv',index=False)"
   ]
  },
  {
   "cell_type": "code",
   "execution_count": 47,
   "metadata": {
    "collapsed": false
   },
   "outputs": [
    {
     "data": {
      "text/html": [
       "<div>\n",
       "<table border=\"1\" class=\"dataframe\">\n",
       "  <thead>\n",
       "    <tr style=\"text-align: right;\">\n",
       "      <th></th>\n",
       "      <th>0</th>\n",
       "      <th>0.1</th>\n",
       "      <th>1</th>\n",
       "      <th>2</th>\n",
       "      <th>3</th>\n",
       "      <th>4</th>\n",
       "      <th>5</th>\n",
       "      <th>6</th>\n",
       "      <th>7</th>\n",
       "      <th>8</th>\n",
       "      <th>...</th>\n",
       "      <th>2038</th>\n",
       "      <th>2039</th>\n",
       "      <th>2040</th>\n",
       "      <th>2041</th>\n",
       "      <th>2042</th>\n",
       "      <th>2043</th>\n",
       "      <th>2044</th>\n",
       "      <th>2045</th>\n",
       "      <th>2046</th>\n",
       "      <th>2047</th>\n",
       "    </tr>\n",
       "  </thead>\n",
       "  <tbody>\n",
       "    <tr>\n",
       "      <th>0</th>\n",
       "      <td>agricultural00.tif</td>\n",
       "      <td>0.909985</td>\n",
       "      <td>0.030925</td>\n",
       "      <td>0.087651</td>\n",
       "      <td>0.0</td>\n",
       "      <td>0.058850</td>\n",
       "      <td>0.00000</td>\n",
       "      <td>0.222092</td>\n",
       "      <td>0.040623</td>\n",
       "      <td>0.066892</td>\n",
       "      <td>...</td>\n",
       "      <td>0.000000</td>\n",
       "      <td>0.292268</td>\n",
       "      <td>0.323953</td>\n",
       "      <td>0.003515</td>\n",
       "      <td>0.091544</td>\n",
       "      <td>0.136804</td>\n",
       "      <td>0.071006</td>\n",
       "      <td>0.027468</td>\n",
       "      <td>0.016721</td>\n",
       "      <td>0.059630</td>\n",
       "    </tr>\n",
       "    <tr>\n",
       "      <th>1</th>\n",
       "      <td>agricultural01.tif</td>\n",
       "      <td>1.107137</td>\n",
       "      <td>0.092292</td>\n",
       "      <td>0.126290</td>\n",
       "      <td>0.0</td>\n",
       "      <td>0.116014</td>\n",
       "      <td>0.00000</td>\n",
       "      <td>0.000000</td>\n",
       "      <td>0.135269</td>\n",
       "      <td>0.000795</td>\n",
       "      <td>...</td>\n",
       "      <td>0.000000</td>\n",
       "      <td>0.094603</td>\n",
       "      <td>0.000000</td>\n",
       "      <td>0.258073</td>\n",
       "      <td>0.278475</td>\n",
       "      <td>0.000000</td>\n",
       "      <td>0.159937</td>\n",
       "      <td>0.016492</td>\n",
       "      <td>0.013055</td>\n",
       "      <td>0.039381</td>\n",
       "    </tr>\n",
       "    <tr>\n",
       "      <th>2</th>\n",
       "      <td>agricultural02.tif</td>\n",
       "      <td>0.705839</td>\n",
       "      <td>0.068317</td>\n",
       "      <td>0.045845</td>\n",
       "      <td>0.0</td>\n",
       "      <td>0.296381</td>\n",
       "      <td>0.08295</td>\n",
       "      <td>0.863768</td>\n",
       "      <td>0.000000</td>\n",
       "      <td>0.000000</td>\n",
       "      <td>...</td>\n",
       "      <td>0.000000</td>\n",
       "      <td>0.232503</td>\n",
       "      <td>0.000000</td>\n",
       "      <td>0.000000</td>\n",
       "      <td>0.229589</td>\n",
       "      <td>0.112848</td>\n",
       "      <td>0.162782</td>\n",
       "      <td>0.077588</td>\n",
       "      <td>0.000000</td>\n",
       "      <td>0.146023</td>\n",
       "    </tr>\n",
       "    <tr>\n",
       "      <th>3</th>\n",
       "      <td>agricultural03.tif</td>\n",
       "      <td>0.843741</td>\n",
       "      <td>0.000000</td>\n",
       "      <td>0.016553</td>\n",
       "      <td>0.0</td>\n",
       "      <td>0.107277</td>\n",
       "      <td>0.00000</td>\n",
       "      <td>0.194399</td>\n",
       "      <td>0.008352</td>\n",
       "      <td>0.000000</td>\n",
       "      <td>...</td>\n",
       "      <td>0.000000</td>\n",
       "      <td>0.034639</td>\n",
       "      <td>0.000000</td>\n",
       "      <td>0.146941</td>\n",
       "      <td>0.377052</td>\n",
       "      <td>0.000000</td>\n",
       "      <td>0.008070</td>\n",
       "      <td>0.000000</td>\n",
       "      <td>0.000000</td>\n",
       "      <td>0.056305</td>\n",
       "    </tr>\n",
       "    <tr>\n",
       "      <th>4</th>\n",
       "      <td>agricultural04.tif</td>\n",
       "      <td>0.006460</td>\n",
       "      <td>0.163063</td>\n",
       "      <td>0.048054</td>\n",
       "      <td>0.0</td>\n",
       "      <td>0.020554</td>\n",
       "      <td>0.00000</td>\n",
       "      <td>0.000000</td>\n",
       "      <td>0.000000</td>\n",
       "      <td>0.000000</td>\n",
       "      <td>...</td>\n",
       "      <td>0.035747</td>\n",
       "      <td>0.000000</td>\n",
       "      <td>0.000000</td>\n",
       "      <td>0.120376</td>\n",
       "      <td>0.000000</td>\n",
       "      <td>0.000000</td>\n",
       "      <td>0.000000</td>\n",
       "      <td>0.627859</td>\n",
       "      <td>0.000000</td>\n",
       "      <td>0.002354</td>\n",
       "    </tr>\n",
       "  </tbody>\n",
       "</table>\n",
       "<p>5 rows × 2049 columns</p>\n",
       "</div>"
      ],
      "text/plain": [
       "                    0       0.1         1         2    3         4        5  \\\n",
       "0  agricultural00.tif  0.909985  0.030925  0.087651  0.0  0.058850  0.00000   \n",
       "1  agricultural01.tif  1.107137  0.092292  0.126290  0.0  0.116014  0.00000   \n",
       "2  agricultural02.tif  0.705839  0.068317  0.045845  0.0  0.296381  0.08295   \n",
       "3  agricultural03.tif  0.843741  0.000000  0.016553  0.0  0.107277  0.00000   \n",
       "4  agricultural04.tif  0.006460  0.163063  0.048054  0.0  0.020554  0.00000   \n",
       "\n",
       "          6         7         8    ...         2038      2039      2040  \\\n",
       "0  0.222092  0.040623  0.066892    ...     0.000000  0.292268  0.323953   \n",
       "1  0.000000  0.135269  0.000795    ...     0.000000  0.094603  0.000000   \n",
       "2  0.863768  0.000000  0.000000    ...     0.000000  0.232503  0.000000   \n",
       "3  0.194399  0.008352  0.000000    ...     0.000000  0.034639  0.000000   \n",
       "4  0.000000  0.000000  0.000000    ...     0.035747  0.000000  0.000000   \n",
       "\n",
       "       2041      2042      2043      2044      2045      2046      2047  \n",
       "0  0.003515  0.091544  0.136804  0.071006  0.027468  0.016721  0.059630  \n",
       "1  0.258073  0.278475  0.000000  0.159937  0.016492  0.013055  0.039381  \n",
       "2  0.000000  0.229589  0.112848  0.162782  0.077588  0.000000  0.146023  \n",
       "3  0.146941  0.377052  0.000000  0.008070  0.000000  0.000000  0.056305  \n",
       "4  0.120376  0.000000  0.000000  0.000000  0.627859  0.000000  0.002354  \n",
       "\n",
       "[5 rows x 2049 columns]"
      ]
     },
     "execution_count": 47,
     "metadata": {},
     "output_type": "execute_result"
    }
   ],
   "source": [
    "df = pd.read_csv('Features Extracted/UCMerced/NoFinetune/UCM-ResNet50-avgpool.csv')\n",
    "df.head()"
   ]
  },
  {
   "cell_type": "markdown",
   "metadata": {},
   "source": [
    "### Test if weights before/after finetuning change"
   ]
  },
  {
   "cell_type": "code",
   "execution_count": 8,
   "metadata": {
    "collapsed": false
   },
   "outputs": [],
   "source": [
    "model_k = ResNet50(include_top=False, weights='imagenet', input_tensor=Input(shape=(224,224,3)))\n",
    "#model_b = ResNet50(include_top=False, weights='imagenet', input_tensor=Input(shape=(224,224,3)))"
   ]
  },
  {
   "cell_type": "code",
   "execution_count": 9,
   "metadata": {
    "collapsed": true
   },
   "outputs": [],
   "source": [
    "from collections import defaultdict"
   ]
  },
  {
   "cell_type": "code",
   "execution_count": 10,
   "metadata": {
    "collapsed": false
   },
   "outputs": [],
   "source": [
    "FLayers = defaultdict(bool)\n",
    "for k in range(175):\n",
    "    #f = h5py.File(weights_path)\n",
    "    #name = f.attrs['layer_names'][k]\n",
    "    #weights = [f[name][h][()] for h in f[name].keys()]\n",
    "    #final_model_fine.layers[k].set_weights(weights)\n",
    "\n",
    "    orig = model_k.layers[k].get_weights()\n",
    "    fine = model_b.layers[k].get_weights()\n",
    "\n",
    "    params = 0\n",
    "    for o,f in zip(orig,fine):\n",
    "        a = (o == f)\n",
    "        a = a.flatten()\n",
    "        params += sum(a)\n",
    "\n",
    "    FLayers[k] = params == model_k.layers[k].count_params()\n",
    "#f.close()"
   ]
  },
  {
   "cell_type": "code",
   "execution_count": 11,
   "metadata": {
    "collapsed": true
   },
   "outputs": [],
   "source": [
    "uF = []\n",
    "for key,value in FLayers.items():\n",
    "    if value == False:\n",
    "        uF.append(key)"
   ]
  },
  {
   "cell_type": "code",
   "execution_count": 12,
   "metadata": {
    "collapsed": true
   },
   "outputs": [],
   "source": [
    "test = 0\n",
    "for u in uF:\n",
    "    print model_k.layers[u]"
   ]
  },
  {
   "cell_type": "code",
   "execution_count": null,
   "metadata": {
    "collapsed": false
   },
   "outputs": [],
   "source": []
  }
 ],
 "metadata": {
  "kernelspec": {
   "display_name": "Python 2",
   "language": "python",
   "name": "python2"
  },
  "language_info": {
   "codemirror_mode": {
    "name": "ipython",
    "version": 2
   },
   "file_extension": ".py",
   "mimetype": "text/x-python",
   "name": "python",
   "nbconvert_exporter": "python",
   "pygments_lexer": "ipython2",
   "version": "2.7.5"
  }
 },
 "nbformat": 4,
 "nbformat_minor": 2
}
